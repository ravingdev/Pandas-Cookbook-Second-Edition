{
  "nbformat": 4,
  "nbformat_minor": 0,
  "metadata": {
    "jupytext": {
      "cell_metadata_filter": "-all",
      "main_language": "python",
      "notebook_metadata_filter": "-all"
    },
    "colab": {
      "name": "c1-code.ipynb",
      "provenance": [],
      "toc_visible": true
    },
    "kernelspec": {
      "name": "python3",
      "display_name": "Python 3"
    }
  },
  "cells": [
    {
      "cell_type": "markdown",
      "metadata": {
        "id": "59BtFkuA6Swh",
        "colab_type": "text"
      },
      "source": [
        "# Chapter 1: Pandas Foundations"
      ]
    },
    {
      "cell_type": "code",
      "metadata": {
        "id": "kEOvQCaF8R3L",
        "colab_type": "code",
        "colab": {
          "base_uri": "https://localhost:8080/",
          "height": 139
        },
        "outputId": "1a338699-1620-485f-cc64-48818241bbb7"
      },
      "source": [
        "!git clone https://github.com/ravingdev/Pandas-Cookbook-Second-Edition.git"
      ],
      "execution_count": 2,
      "outputs": [
        {
          "output_type": "stream",
          "text": [
            "Cloning into 'Pandas-Cookbook-Second-Edition'...\n",
            "remote: Enumerating objects: 194, done.\u001b[K\n",
            "remote: Counting objects: 100% (194/194), done.\u001b[K\n",
            "remote: Compressing objects: 100% (137/137), done.\u001b[K\n",
            "remote: Total 194 (delta 56), reused 176 (delta 41), pack-reused 0\u001b[K\n",
            "Receiving objects: 100% (194/194), 40.22 MiB | 11.95 MiB/s, done.\n",
            "Resolving deltas: 100% (56/56), done.\n"
          ],
          "name": "stdout"
        }
      ]
    },
    {
      "cell_type": "code",
      "metadata": {
        "id": "QpLy-p8R9Gf-",
        "colab_type": "code",
        "colab": {}
      },
      "source": [
        "!cp -r ./Pandas-Cookbook-Second-Edition/data ./data"
      ],
      "execution_count": 3,
      "outputs": []
    },
    {
      "cell_type": "code",
      "metadata": {
        "lines_to_next_cell": 2,
        "id": "ugRpDrh-6Swi",
        "colab_type": "code",
        "colab": {}
      },
      "source": [
        "import pandas as pd\n",
        "import numpy as np"
      ],
      "execution_count": 1,
      "outputs": []
    },
    {
      "cell_type": "markdown",
      "metadata": {
        "id": "PRY8TuWH6Swn",
        "colab_type": "text"
      },
      "source": [
        "## Introduction"
      ]
    },
    {
      "cell_type": "markdown",
      "metadata": {
        "id": "0SXJ_9YW6Swn",
        "colab_type": "text"
      },
      "source": [
        "## Dissecting the anatomy of a DataFrame"
      ]
    },
    {
      "cell_type": "code",
      "metadata": {
        "lines_to_next_cell": 2,
        "id": "GxbA-JEa6Swo",
        "colab_type": "code",
        "colab": {}
      },
      "source": [
        "pd.set_option('max_columns', 4, 'max_rows', 10)"
      ],
      "execution_count": 4,
      "outputs": []
    },
    {
      "cell_type": "code",
      "metadata": {
        "lines_to_next_cell": 2,
        "id": "HGqFpAkv6Swr",
        "colab_type": "code",
        "colab": {
          "base_uri": "https://localhost:8080/",
          "height": 231
        },
        "outputId": "5a133f0f-01d0-4af6-e987-0248853c4e57"
      },
      "source": [
        "movies = pd.read_csv('data/movie.csv')\n",
        "movies.head()"
      ],
      "execution_count": 5,
      "outputs": [
        {
          "output_type": "execute_result",
          "data": {
            "text/html": [
              "<div>\n",
              "<style scoped>\n",
              "    .dataframe tbody tr th:only-of-type {\n",
              "        vertical-align: middle;\n",
              "    }\n",
              "\n",
              "    .dataframe tbody tr th {\n",
              "        vertical-align: top;\n",
              "    }\n",
              "\n",
              "    .dataframe thead th {\n",
              "        text-align: right;\n",
              "    }\n",
              "</style>\n",
              "<table border=\"1\" class=\"dataframe\">\n",
              "  <thead>\n",
              "    <tr style=\"text-align: right;\">\n",
              "      <th></th>\n",
              "      <th>color</th>\n",
              "      <th>director_name</th>\n",
              "      <th>...</th>\n",
              "      <th>aspect_ratio</th>\n",
              "      <th>movie_facebook_likes</th>\n",
              "    </tr>\n",
              "  </thead>\n",
              "  <tbody>\n",
              "    <tr>\n",
              "      <th>0</th>\n",
              "      <td>Color</td>\n",
              "      <td>James Cameron</td>\n",
              "      <td>...</td>\n",
              "      <td>1.78</td>\n",
              "      <td>33000</td>\n",
              "    </tr>\n",
              "    <tr>\n",
              "      <th>1</th>\n",
              "      <td>Color</td>\n",
              "      <td>Gore Verbinski</td>\n",
              "      <td>...</td>\n",
              "      <td>2.35</td>\n",
              "      <td>0</td>\n",
              "    </tr>\n",
              "    <tr>\n",
              "      <th>2</th>\n",
              "      <td>Color</td>\n",
              "      <td>Sam Mendes</td>\n",
              "      <td>...</td>\n",
              "      <td>2.35</td>\n",
              "      <td>85000</td>\n",
              "    </tr>\n",
              "    <tr>\n",
              "      <th>3</th>\n",
              "      <td>Color</td>\n",
              "      <td>Christopher Nolan</td>\n",
              "      <td>...</td>\n",
              "      <td>2.35</td>\n",
              "      <td>164000</td>\n",
              "    </tr>\n",
              "    <tr>\n",
              "      <th>4</th>\n",
              "      <td>NaN</td>\n",
              "      <td>Doug Walker</td>\n",
              "      <td>...</td>\n",
              "      <td>NaN</td>\n",
              "      <td>0</td>\n",
              "    </tr>\n",
              "  </tbody>\n",
              "</table>\n",
              "<p>5 rows × 28 columns</p>\n",
              "</div>"
            ],
            "text/plain": [
              "   color      director_name  ...  aspect_ratio  movie_facebook_likes\n",
              "0  Color      James Cameron  ...          1.78                 33000\n",
              "1  Color     Gore Verbinski  ...          2.35                     0\n",
              "2  Color         Sam Mendes  ...          2.35                 85000\n",
              "3  Color  Christopher Nolan  ...          2.35                164000\n",
              "4    NaN        Doug Walker  ...           NaN                     0\n",
              "\n",
              "[5 rows x 28 columns]"
            ]
          },
          "metadata": {
            "tags": []
          },
          "execution_count": 5
        }
      ]
    },
    {
      "cell_type": "code",
      "metadata": {
        "id": "A0uyaG58-Fnb",
        "colab_type": "code",
        "colab": {
          "base_uri": "https://localhost:8080/",
          "height": 415
        },
        "outputId": "d7f5510c-a9b7-4dc6-fbd4-b5b50ccf858a"
      },
      "source": [
        "movies"
      ],
      "execution_count": 6,
      "outputs": [
        {
          "output_type": "execute_result",
          "data": {
            "text/html": [
              "<div>\n",
              "<style scoped>\n",
              "    .dataframe tbody tr th:only-of-type {\n",
              "        vertical-align: middle;\n",
              "    }\n",
              "\n",
              "    .dataframe tbody tr th {\n",
              "        vertical-align: top;\n",
              "    }\n",
              "\n",
              "    .dataframe thead th {\n",
              "        text-align: right;\n",
              "    }\n",
              "</style>\n",
              "<table border=\"1\" class=\"dataframe\">\n",
              "  <thead>\n",
              "    <tr style=\"text-align: right;\">\n",
              "      <th></th>\n",
              "      <th>color</th>\n",
              "      <th>director_name</th>\n",
              "      <th>...</th>\n",
              "      <th>aspect_ratio</th>\n",
              "      <th>movie_facebook_likes</th>\n",
              "    </tr>\n",
              "  </thead>\n",
              "  <tbody>\n",
              "    <tr>\n",
              "      <th>0</th>\n",
              "      <td>Color</td>\n",
              "      <td>James Cameron</td>\n",
              "      <td>...</td>\n",
              "      <td>1.78</td>\n",
              "      <td>33000</td>\n",
              "    </tr>\n",
              "    <tr>\n",
              "      <th>1</th>\n",
              "      <td>Color</td>\n",
              "      <td>Gore Verbinski</td>\n",
              "      <td>...</td>\n",
              "      <td>2.35</td>\n",
              "      <td>0</td>\n",
              "    </tr>\n",
              "    <tr>\n",
              "      <th>2</th>\n",
              "      <td>Color</td>\n",
              "      <td>Sam Mendes</td>\n",
              "      <td>...</td>\n",
              "      <td>2.35</td>\n",
              "      <td>85000</td>\n",
              "    </tr>\n",
              "    <tr>\n",
              "      <th>3</th>\n",
              "      <td>Color</td>\n",
              "      <td>Christopher Nolan</td>\n",
              "      <td>...</td>\n",
              "      <td>2.35</td>\n",
              "      <td>164000</td>\n",
              "    </tr>\n",
              "    <tr>\n",
              "      <th>4</th>\n",
              "      <td>NaN</td>\n",
              "      <td>Doug Walker</td>\n",
              "      <td>...</td>\n",
              "      <td>NaN</td>\n",
              "      <td>0</td>\n",
              "    </tr>\n",
              "    <tr>\n",
              "      <th>...</th>\n",
              "      <td>...</td>\n",
              "      <td>...</td>\n",
              "      <td>...</td>\n",
              "      <td>...</td>\n",
              "      <td>...</td>\n",
              "    </tr>\n",
              "    <tr>\n",
              "      <th>4911</th>\n",
              "      <td>Color</td>\n",
              "      <td>Scott Smith</td>\n",
              "      <td>...</td>\n",
              "      <td>NaN</td>\n",
              "      <td>84</td>\n",
              "    </tr>\n",
              "    <tr>\n",
              "      <th>4912</th>\n",
              "      <td>Color</td>\n",
              "      <td>NaN</td>\n",
              "      <td>...</td>\n",
              "      <td>16.00</td>\n",
              "      <td>32000</td>\n",
              "    </tr>\n",
              "    <tr>\n",
              "      <th>4913</th>\n",
              "      <td>Color</td>\n",
              "      <td>Benjamin Roberds</td>\n",
              "      <td>...</td>\n",
              "      <td>NaN</td>\n",
              "      <td>16</td>\n",
              "    </tr>\n",
              "    <tr>\n",
              "      <th>4914</th>\n",
              "      <td>Color</td>\n",
              "      <td>Daniel Hsia</td>\n",
              "      <td>...</td>\n",
              "      <td>2.35</td>\n",
              "      <td>660</td>\n",
              "    </tr>\n",
              "    <tr>\n",
              "      <th>4915</th>\n",
              "      <td>Color</td>\n",
              "      <td>Jon Gunn</td>\n",
              "      <td>...</td>\n",
              "      <td>1.85</td>\n",
              "      <td>456</td>\n",
              "    </tr>\n",
              "  </tbody>\n",
              "</table>\n",
              "<p>4916 rows × 28 columns</p>\n",
              "</div>"
            ],
            "text/plain": [
              "      color      director_name  ...  aspect_ratio  movie_facebook_likes\n",
              "0     Color      James Cameron  ...          1.78                 33000\n",
              "1     Color     Gore Verbinski  ...          2.35                     0\n",
              "2     Color         Sam Mendes  ...          2.35                 85000\n",
              "3     Color  Christopher Nolan  ...          2.35                164000\n",
              "4       NaN        Doug Walker  ...           NaN                     0\n",
              "...     ...                ...  ...           ...                   ...\n",
              "4911  Color        Scott Smith  ...           NaN                    84\n",
              "4912  Color                NaN  ...         16.00                 32000\n",
              "4913  Color   Benjamin Roberds  ...           NaN                    16\n",
              "4914  Color        Daniel Hsia  ...          2.35                   660\n",
              "4915  Color           Jon Gunn  ...          1.85                   456\n",
              "\n",
              "[4916 rows x 28 columns]"
            ]
          },
          "metadata": {
            "tags": []
          },
          "execution_count": 6
        }
      ]
    },
    {
      "cell_type": "code",
      "metadata": {
        "id": "lihuusrC_N9S",
        "colab_type": "code",
        "colab": {
          "base_uri": "https://localhost:8080/",
          "height": 35
        },
        "outputId": "34969bfc-57af-4d3e-b784-2884a0ba2816"
      },
      "source": [
        "index = movies.index\n",
        "#axis0\n",
        "index "
      ],
      "execution_count": 8,
      "outputs": [
        {
          "output_type": "execute_result",
          "data": {
            "text/plain": [
              "RangeIndex(start=0, stop=4916, step=1)"
            ]
          },
          "metadata": {
            "tags": []
          },
          "execution_count": 8
        }
      ]
    },
    {
      "cell_type": "code",
      "metadata": {
        "id": "sTJ2SQG8_nMJ",
        "colab_type": "code",
        "colab": {
          "base_uri": "https://localhost:8080/",
          "height": 173
        },
        "outputId": "bd2462fb-6134-490c-b1e8-9f767ac4a9ad"
      },
      "source": [
        "columns = movies.columns\n",
        "#axis1\n",
        "columns"
      ],
      "execution_count": 10,
      "outputs": [
        {
          "output_type": "execute_result",
          "data": {
            "text/plain": [
              "Index(['color', 'director_name', 'num_critic_for_reviews', 'duration',\n",
              "       'director_facebook_likes', 'actor_3_facebook_likes', 'actor_2_name',\n",
              "       'actor_1_facebook_likes', 'gross', 'genres', 'actor_1_name',\n",
              "       'movie_title', 'num_voted_users', 'cast_total_facebook_likes',\n",
              "       'actor_3_name', 'facenumber_in_poster', 'plot_keywords',\n",
              "       'movie_imdb_link', 'num_user_for_reviews', 'language', 'country',\n",
              "       'content_rating', 'budget', 'title_year', 'actor_2_facebook_likes',\n",
              "       'imdb_score', 'aspect_ratio', 'movie_facebook_likes'],\n",
              "      dtype='object')"
            ]
          },
          "metadata": {
            "tags": []
          },
          "execution_count": 10
        }
      ]
    },
    {
      "cell_type": "code",
      "metadata": {
        "id": "m-X_Yw9i_50c",
        "colab_type": "code",
        "colab": {}
      },
      "source": [
        "data = movies.to_numpy()"
      ],
      "execution_count": 11,
      "outputs": []
    },
    {
      "cell_type": "code",
      "metadata": {
        "id": "w3BhHAOCACFN",
        "colab_type": "code",
        "colab": {
          "base_uri": "https://localhost:8080/",
          "height": 139
        },
        "outputId": "e1eaf6a5-6b1c-4f6a-d12f-7aa64cbe450e"
      },
      "source": [
        "data"
      ],
      "execution_count": 12,
      "outputs": [
        {
          "output_type": "execute_result",
          "data": {
            "text/plain": [
              "array([['Color', 'James Cameron', 723.0, ..., 7.9, 1.78, 33000],\n",
              "       ['Color', 'Gore Verbinski', 302.0, ..., 7.1, 2.35, 0],\n",
              "       ['Color', 'Sam Mendes', 602.0, ..., 6.8, 2.35, 85000],\n",
              "       ...,\n",
              "       ['Color', 'Benjamin Roberds', 13.0, ..., 6.3, nan, 16],\n",
              "       ['Color', 'Daniel Hsia', 14.0, ..., 6.3, 2.35, 660],\n",
              "       ['Color', 'Jon Gunn', 43.0, ..., 6.6, 1.85, 456]], dtype=object)"
            ]
          },
          "metadata": {
            "tags": []
          },
          "execution_count": 12
        }
      ]
    },
    {
      "cell_type": "code",
      "metadata": {
        "id": "Wc4g2w-8BnNn",
        "colab_type": "code",
        "colab": {
          "base_uri": "https://localhost:8080/",
          "height": 87
        },
        "outputId": "bb292ded-0182-43d8-bdf9-be6b7a466d60"
      },
      "source": [
        "movies.dtypes.value_counts()"
      ],
      "execution_count": 14,
      "outputs": [
        {
          "output_type": "execute_result",
          "data": {
            "text/plain": [
              "float64    13\n",
              "object     12\n",
              "int64       3\n",
              "dtype: int64"
            ]
          },
          "metadata": {
            "tags": []
          },
          "execution_count": 14
        }
      ]
    },
    {
      "cell_type": "code",
      "metadata": {
        "id": "BjJ0hHIbB4qc",
        "colab_type": "code",
        "colab": {
          "base_uri": "https://localhost:8080/",
          "height": 624
        },
        "outputId": "bed8dff6-b9c7-48f7-836f-50528ceeb161"
      },
      "source": [
        "movies.info()"
      ],
      "execution_count": 15,
      "outputs": [
        {
          "output_type": "stream",
          "text": [
            "<class 'pandas.core.frame.DataFrame'>\n",
            "RangeIndex: 4916 entries, 0 to 4915\n",
            "Data columns (total 28 columns):\n",
            " #   Column                     Non-Null Count  Dtype  \n",
            "---  ------                     --------------  -----  \n",
            " 0   color                      4897 non-null   object \n",
            " 1   director_name              4814 non-null   object \n",
            " 2   num_critic_for_reviews     4867 non-null   float64\n",
            " 3   duration                   4901 non-null   float64\n",
            " 4   director_facebook_likes    4814 non-null   float64\n",
            " 5   actor_3_facebook_likes     4893 non-null   float64\n",
            " 6   actor_2_name               4903 non-null   object \n",
            " 7   actor_1_facebook_likes     4909 non-null   float64\n",
            " 8   gross                      4054 non-null   float64\n",
            " 9   genres                     4916 non-null   object \n",
            " 10  actor_1_name               4909 non-null   object \n",
            " 11  movie_title                4916 non-null   object \n",
            " 12  num_voted_users            4916 non-null   int64  \n",
            " 13  cast_total_facebook_likes  4916 non-null   int64  \n",
            " 14  actor_3_name               4893 non-null   object \n",
            " 15  facenumber_in_poster       4903 non-null   float64\n",
            " 16  plot_keywords              4764 non-null   object \n",
            " 17  movie_imdb_link            4916 non-null   object \n",
            " 18  num_user_for_reviews       4895 non-null   float64\n",
            " 19  language                   4904 non-null   object \n",
            " 20  country                    4911 non-null   object \n",
            " 21  content_rating             4616 non-null   object \n",
            " 22  budget                     4432 non-null   float64\n",
            " 23  title_year                 4810 non-null   float64\n",
            " 24  actor_2_facebook_likes     4903 non-null   float64\n",
            " 25  imdb_score                 4916 non-null   float64\n",
            " 26  aspect_ratio               4590 non-null   float64\n",
            " 27  movie_facebook_likes       4916 non-null   int64  \n",
            "dtypes: float64(13), int64(3), object(12)\n",
            "memory usage: 1.1+ MB\n"
          ],
          "name": "stdout"
        }
      ]
    },
    {
      "cell_type": "markdown",
      "metadata": {
        "id": "l3inB4EN6Swu",
        "colab_type": "text"
      },
      "source": [
        "### How it works..."
      ]
    },
    {
      "cell_type": "markdown",
      "metadata": {
        "id": "CTZIYCyO6Swv",
        "colab_type": "text"
      },
      "source": [
        "## DataFrame Attributes"
      ]
    },
    {
      "cell_type": "markdown",
      "metadata": {
        "id": "jVSBxC6Q6Swv",
        "colab_type": "text"
      },
      "source": [
        "### How to do it... {#how-to-do-it-1}"
      ]
    },
    {
      "cell_type": "code",
      "metadata": {
        "lines_to_next_cell": 2,
        "id": "UoJa3xh96Sww",
        "colab_type": "code",
        "colab": {}
      },
      "source": [
        "movies = pd.read_csv('data/movie.csv')\n",
        "columns = movies.columns\n",
        "index = movies.index\n",
        "data = movies.values"
      ],
      "execution_count": null,
      "outputs": []
    },
    {
      "cell_type": "code",
      "metadata": {
        "lines_to_next_cell": 2,
        "id": "ALpaxpdM6Swy",
        "colab_type": "code",
        "colab": {}
      },
      "source": [
        "columns"
      ],
      "execution_count": null,
      "outputs": []
    },
    {
      "cell_type": "code",
      "metadata": {
        "lines_to_next_cell": 2,
        "id": "X1RJBfkY6Sw1",
        "colab_type": "code",
        "colab": {}
      },
      "source": [
        "index"
      ],
      "execution_count": null,
      "outputs": []
    },
    {
      "cell_type": "code",
      "metadata": {
        "lines_to_next_cell": 2,
        "id": "Ya_G-KqE6Sw4",
        "colab_type": "code",
        "colab": {}
      },
      "source": [
        "data"
      ],
      "execution_count": null,
      "outputs": []
    },
    {
      "cell_type": "code",
      "metadata": {
        "lines_to_next_cell": 2,
        "id": "CHqluD546Sw7",
        "colab_type": "code",
        "colab": {}
      },
      "source": [
        "type(index)"
      ],
      "execution_count": null,
      "outputs": []
    },
    {
      "cell_type": "code",
      "metadata": {
        "lines_to_next_cell": 2,
        "id": "Sqd4N5Ne6SxA",
        "colab_type": "code",
        "colab": {}
      },
      "source": [
        "type(columns)"
      ],
      "execution_count": null,
      "outputs": []
    },
    {
      "cell_type": "code",
      "metadata": {
        "lines_to_next_cell": 2,
        "id": "vne35P5e6SxC",
        "colab_type": "code",
        "colab": {}
      },
      "source": [
        "type(data)"
      ],
      "execution_count": null,
      "outputs": []
    },
    {
      "cell_type": "code",
      "metadata": {
        "lines_to_next_cell": 2,
        "id": "f5H1_8z36SxF",
        "colab_type": "code",
        "colab": {}
      },
      "source": [
        "issubclass(pd.RangeIndex, pd.Index)"
      ],
      "execution_count": null,
      "outputs": []
    },
    {
      "cell_type": "markdown",
      "metadata": {
        "id": "QqBn9XX16SxI",
        "colab_type": "text"
      },
      "source": [
        "### How it works..."
      ]
    },
    {
      "cell_type": "markdown",
      "metadata": {
        "id": "SymxO2qx6SxI",
        "colab_type": "text"
      },
      "source": [
        "### There's more"
      ]
    },
    {
      "cell_type": "code",
      "metadata": {
        "lines_to_next_cell": 2,
        "id": "MhVu9QHT6SxJ",
        "colab_type": "code",
        "colab": {
          "base_uri": "https://localhost:8080/",
          "height": 35
        },
        "outputId": "c298dba1-0085-4f41-c3c4-294ba50633a6"
      },
      "source": [
        "index.values"
      ],
      "execution_count": 16,
      "outputs": [
        {
          "output_type": "execute_result",
          "data": {
            "text/plain": [
              "array([   0,    1,    2, ..., 4913, 4914, 4915])"
            ]
          },
          "metadata": {
            "tags": []
          },
          "execution_count": 16
        }
      ]
    },
    {
      "cell_type": "code",
      "metadata": {
        "lines_to_next_cell": 2,
        "id": "gnyhKXAZ6SxL",
        "colab_type": "code",
        "colab": {
          "base_uri": "https://localhost:8080/",
          "height": 173
        },
        "outputId": "19baac72-0bf5-4149-f023-2ff364e84aa8"
      },
      "source": [
        "columns.values"
      ],
      "execution_count": 17,
      "outputs": [
        {
          "output_type": "execute_result",
          "data": {
            "text/plain": [
              "array(['color', 'director_name', 'num_critic_for_reviews', 'duration',\n",
              "       'director_facebook_likes', 'actor_3_facebook_likes',\n",
              "       'actor_2_name', 'actor_1_facebook_likes', 'gross', 'genres',\n",
              "       'actor_1_name', 'movie_title', 'num_voted_users',\n",
              "       'cast_total_facebook_likes', 'actor_3_name',\n",
              "       'facenumber_in_poster', 'plot_keywords', 'movie_imdb_link',\n",
              "       'num_user_for_reviews', 'language', 'country', 'content_rating',\n",
              "       'budget', 'title_year', 'actor_2_facebook_likes', 'imdb_score',\n",
              "       'aspect_ratio', 'movie_facebook_likes'], dtype=object)"
            ]
          },
          "metadata": {
            "tags": []
          },
          "execution_count": 17
        }
      ]
    },
    {
      "cell_type": "markdown",
      "metadata": {
        "id": "9xNFwFTv6SxO",
        "colab_type": "text"
      },
      "source": [
        "## Understanding data types"
      ]
    },
    {
      "cell_type": "markdown",
      "metadata": {
        "id": "c9Ky17hY6SxO",
        "colab_type": "text"
      },
      "source": [
        "### How to do it... {#how-to-do-it-2}"
      ]
    },
    {
      "cell_type": "code",
      "metadata": {
        "lines_to_next_cell": 2,
        "id": "FnhAmTnh6SxP",
        "colab_type": "code",
        "colab": {}
      },
      "source": [
        "movies = pd.read_csv('data/movie.csv')"
      ],
      "execution_count": null,
      "outputs": []
    },
    {
      "cell_type": "code",
      "metadata": {
        "lines_to_next_cell": 2,
        "id": "qoEuGlIk6SxR",
        "colab_type": "code",
        "colab": {
          "base_uri": "https://localhost:8080/",
          "height": 225
        },
        "outputId": "2a9e6932-0e29-48b4-b46b-0fea2391e62c"
      },
      "source": [
        "movies.dtypes"
      ],
      "execution_count": 18,
      "outputs": [
        {
          "output_type": "execute_result",
          "data": {
            "text/plain": [
              "color                       object\n",
              "director_name               object\n",
              "num_critic_for_reviews     float64\n",
              "duration                   float64\n",
              "director_facebook_likes    float64\n",
              "                            ...   \n",
              "title_year                 float64\n",
              "actor_2_facebook_likes     float64\n",
              "imdb_score                 float64\n",
              "aspect_ratio               float64\n",
              "movie_facebook_likes         int64\n",
              "Length: 28, dtype: object"
            ]
          },
          "metadata": {
            "tags": []
          },
          "execution_count": 18
        }
      ]
    },
    {
      "cell_type": "code",
      "metadata": {
        "lines_to_next_cell": 2,
        "id": "O1rSOMBc6SxU",
        "colab_type": "code",
        "colab": {
          "base_uri": "https://localhost:8080/",
          "height": 287
        },
        "outputId": "b3f618af-5b87-4908-aab4-6260d105423d"
      },
      "source": [
        "movies.get_dtype_counts()"
      ],
      "execution_count": 19,
      "outputs": [
        {
          "output_type": "error",
          "ename": "AttributeError",
          "evalue": "ignored",
          "traceback": [
            "\u001b[0;31m---------------------------------------------------------------------------\u001b[0m",
            "\u001b[0;31mAttributeError\u001b[0m                            Traceback (most recent call last)",
            "\u001b[0;32m<ipython-input-19-f1fc56c79eb8>\u001b[0m in \u001b[0;36m<module>\u001b[0;34m()\u001b[0m\n\u001b[0;32m----> 1\u001b[0;31m \u001b[0mmovies\u001b[0m\u001b[0;34m.\u001b[0m\u001b[0mget_dtype_counts\u001b[0m\u001b[0;34m(\u001b[0m\u001b[0;34m)\u001b[0m\u001b[0;34m\u001b[0m\u001b[0;34m\u001b[0m\u001b[0m\n\u001b[0m",
            "\u001b[0;32m/usr/local/lib/python3.6/dist-packages/pandas/core/generic.py\u001b[0m in \u001b[0;36m__getattr__\u001b[0;34m(self, name)\u001b[0m\n\u001b[1;32m   5272\u001b[0m             \u001b[0;32mif\u001b[0m \u001b[0mself\u001b[0m\u001b[0;34m.\u001b[0m\u001b[0m_info_axis\u001b[0m\u001b[0;34m.\u001b[0m\u001b[0m_can_hold_identifiers_and_holds_name\u001b[0m\u001b[0;34m(\u001b[0m\u001b[0mname\u001b[0m\u001b[0;34m)\u001b[0m\u001b[0;34m:\u001b[0m\u001b[0;34m\u001b[0m\u001b[0;34m\u001b[0m\u001b[0m\n\u001b[1;32m   5273\u001b[0m                 \u001b[0;32mreturn\u001b[0m \u001b[0mself\u001b[0m\u001b[0;34m[\u001b[0m\u001b[0mname\u001b[0m\u001b[0;34m]\u001b[0m\u001b[0;34m\u001b[0m\u001b[0;34m\u001b[0m\u001b[0m\n\u001b[0;32m-> 5274\u001b[0;31m             \u001b[0;32mreturn\u001b[0m \u001b[0mobject\u001b[0m\u001b[0;34m.\u001b[0m\u001b[0m__getattribute__\u001b[0m\u001b[0;34m(\u001b[0m\u001b[0mself\u001b[0m\u001b[0;34m,\u001b[0m \u001b[0mname\u001b[0m\u001b[0;34m)\u001b[0m\u001b[0;34m\u001b[0m\u001b[0;34m\u001b[0m\u001b[0m\n\u001b[0m\u001b[1;32m   5275\u001b[0m \u001b[0;34m\u001b[0m\u001b[0m\n\u001b[1;32m   5276\u001b[0m     \u001b[0;32mdef\u001b[0m \u001b[0m__setattr__\u001b[0m\u001b[0;34m(\u001b[0m\u001b[0mself\u001b[0m\u001b[0;34m,\u001b[0m \u001b[0mname\u001b[0m\u001b[0;34m:\u001b[0m \u001b[0mstr\u001b[0m\u001b[0;34m,\u001b[0m \u001b[0mvalue\u001b[0m\u001b[0;34m)\u001b[0m \u001b[0;34m->\u001b[0m \u001b[0;32mNone\u001b[0m\u001b[0;34m:\u001b[0m\u001b[0;34m\u001b[0m\u001b[0;34m\u001b[0m\u001b[0m\n",
            "\u001b[0;31mAttributeError\u001b[0m: 'DataFrame' object has no attribute 'get_dtype_counts'"
          ]
        }
      ]
    },
    {
      "cell_type": "code",
      "metadata": {
        "lines_to_next_cell": 2,
        "id": "ELEvW5k-6SxW",
        "colab_type": "code",
        "colab": {}
      },
      "source": [
        "movies.info()"
      ],
      "execution_count": null,
      "outputs": []
    },
    {
      "cell_type": "markdown",
      "metadata": {
        "id": "1APKA1JM6SxZ",
        "colab_type": "text"
      },
      "source": [
        "### How it works..."
      ]
    },
    {
      "cell_type": "code",
      "metadata": {
        "lines_to_next_cell": 2,
        "id": "F4yNuKFf6SxZ",
        "colab_type": "code",
        "colab": {
          "base_uri": "https://localhost:8080/",
          "height": 35
        },
        "outputId": "57f63db3-f315-41c9-f2cb-7eb30edeb018"
      },
      "source": [
        "pd.Series(['Paul', np.nan, 'George']).dtype"
      ],
      "execution_count": 20,
      "outputs": [
        {
          "output_type": "execute_result",
          "data": {
            "text/plain": [
              "dtype('O')"
            ]
          },
          "metadata": {
            "tags": []
          },
          "execution_count": 20
        }
      ]
    },
    {
      "cell_type": "markdown",
      "metadata": {
        "id": "0NapzG-R6Sxd",
        "colab_type": "text"
      },
      "source": [
        "### There's more..."
      ]
    },
    {
      "cell_type": "markdown",
      "metadata": {
        "id": "SfpsWOJw6Sxd",
        "colab_type": "text"
      },
      "source": [
        "### See also"
      ]
    },
    {
      "cell_type": "markdown",
      "metadata": {
        "id": "t7GRY4yT6Sxe",
        "colab_type": "text"
      },
      "source": [
        "## Selecting a Column"
      ]
    },
    {
      "cell_type": "markdown",
      "metadata": {
        "id": "QToZvV_w6Sxf",
        "colab_type": "text"
      },
      "source": [
        "### How to do it... {#how-to-do-it-3}"
      ]
    },
    {
      "cell_type": "code",
      "metadata": {
        "lines_to_next_cell": 2,
        "id": "yYvUJSsS6Sxf",
        "colab_type": "code",
        "colab": {
          "base_uri": "https://localhost:8080/",
          "height": 225
        },
        "outputId": "91e7d512-06ed-4e8a-bba5-c9aba0ef3e8a"
      },
      "source": [
        "movies = pd.read_csv('data/movie.csv')\n",
        "movies['director_name']"
      ],
      "execution_count": 21,
      "outputs": [
        {
          "output_type": "execute_result",
          "data": {
            "text/plain": [
              "0           James Cameron\n",
              "1          Gore Verbinski\n",
              "2              Sam Mendes\n",
              "3       Christopher Nolan\n",
              "4             Doug Walker\n",
              "              ...        \n",
              "4911          Scott Smith\n",
              "4912                  NaN\n",
              "4913     Benjamin Roberds\n",
              "4914          Daniel Hsia\n",
              "4915             Jon Gunn\n",
              "Name: director_name, Length: 4916, dtype: object"
            ]
          },
          "metadata": {
            "tags": []
          },
          "execution_count": 21
        }
      ]
    },
    {
      "cell_type": "code",
      "metadata": {
        "lines_to_next_cell": 2,
        "id": "Y4qcl-c76Sxi",
        "colab_type": "code",
        "colab": {
          "base_uri": "https://localhost:8080/",
          "height": 225
        },
        "outputId": "06c3571e-a9bc-406c-f8da-5671f14137f5"
      },
      "source": [
        "movies.director_name"
      ],
      "execution_count": 22,
      "outputs": [
        {
          "output_type": "execute_result",
          "data": {
            "text/plain": [
              "0           James Cameron\n",
              "1          Gore Verbinski\n",
              "2              Sam Mendes\n",
              "3       Christopher Nolan\n",
              "4             Doug Walker\n",
              "              ...        \n",
              "4911          Scott Smith\n",
              "4912                  NaN\n",
              "4913     Benjamin Roberds\n",
              "4914          Daniel Hsia\n",
              "4915             Jon Gunn\n",
              "Name: director_name, Length: 4916, dtype: object"
            ]
          },
          "metadata": {
            "tags": []
          },
          "execution_count": 22
        }
      ]
    },
    {
      "cell_type": "code",
      "metadata": {
        "lines_to_next_cell": 2,
        "id": "2szto94r6Sxk",
        "colab_type": "code",
        "colab": {
          "base_uri": "https://localhost:8080/",
          "height": 225
        },
        "outputId": "2b5b3b01-8caa-4206-8617-3c507e2d423d"
      },
      "source": [
        "movies.loc[:, 'director_name']"
      ],
      "execution_count": 31,
      "outputs": [
        {
          "output_type": "execute_result",
          "data": {
            "text/plain": [
              "0           James Cameron\n",
              "1          Gore Verbinski\n",
              "2              Sam Mendes\n",
              "3       Christopher Nolan\n",
              "4             Doug Walker\n",
              "              ...        \n",
              "4911          Scott Smith\n",
              "4912                  NaN\n",
              "4913     Benjamin Roberds\n",
              "4914          Daniel Hsia\n",
              "4915             Jon Gunn\n",
              "Name: director_name, Length: 4916, dtype: object"
            ]
          },
          "metadata": {
            "tags": []
          },
          "execution_count": 31
        }
      ]
    },
    {
      "cell_type": "code",
      "metadata": {
        "lines_to_next_cell": 2,
        "id": "fUzNxbqx6Sxo",
        "colab_type": "code",
        "colab": {
          "base_uri": "https://localhost:8080/",
          "height": 225
        },
        "outputId": "a1d6ebf5-1505-477a-8b1c-d19bae93b5f1"
      },
      "source": [
        "movies.iloc[:, 1]"
      ],
      "execution_count": 24,
      "outputs": [
        {
          "output_type": "execute_result",
          "data": {
            "text/plain": [
              "0           James Cameron\n",
              "1          Gore Verbinski\n",
              "2              Sam Mendes\n",
              "3       Christopher Nolan\n",
              "4             Doug Walker\n",
              "              ...        \n",
              "4911          Scott Smith\n",
              "4912                  NaN\n",
              "4913     Benjamin Roberds\n",
              "4914          Daniel Hsia\n",
              "4915             Jon Gunn\n",
              "Name: director_name, Length: 4916, dtype: object"
            ]
          },
          "metadata": {
            "tags": []
          },
          "execution_count": 24
        }
      ]
    },
    {
      "cell_type": "code",
      "metadata": {
        "id": "2HJ7FJz6FFIj",
        "colab_type": "code",
        "colab": {
          "base_uri": "https://localhost:8080/",
          "height": 104
        },
        "outputId": "c080343b-8c89-40ae-8051-899f8e57f3e1"
      },
      "source": [
        "movies.loc[0:3,'director_name']"
      ],
      "execution_count": 32,
      "outputs": [
        {
          "output_type": "execute_result",
          "data": {
            "text/plain": [
              "0        James Cameron\n",
              "1       Gore Verbinski\n",
              "2           Sam Mendes\n",
              "3    Christopher Nolan\n",
              "Name: director_name, dtype: object"
            ]
          },
          "metadata": {
            "tags": []
          },
          "execution_count": 32
        }
      ]
    },
    {
      "cell_type": "code",
      "metadata": {
        "lines_to_next_cell": 2,
        "id": "5ck-Se796Sxr",
        "colab_type": "code",
        "colab": {
          "base_uri": "https://localhost:8080/",
          "height": 35
        },
        "outputId": "c4d4bf9a-cfcf-4afd-f589-18743f2ed521"
      },
      "source": [
        "movies['director_name'].index"
      ],
      "execution_count": 25,
      "outputs": [
        {
          "output_type": "execute_result",
          "data": {
            "text/plain": [
              "RangeIndex(start=0, stop=4916, step=1)"
            ]
          },
          "metadata": {
            "tags": []
          },
          "execution_count": 25
        }
      ]
    },
    {
      "cell_type": "code",
      "metadata": {
        "lines_to_next_cell": 2,
        "id": "4EmwKyIk6Sxv",
        "colab_type": "code",
        "colab": {
          "base_uri": "https://localhost:8080/",
          "height": 35
        },
        "outputId": "baced3e7-344c-4c80-8b96-9976ea8885c4"
      },
      "source": [
        "movies['director_name'].dtype"
      ],
      "execution_count": 26,
      "outputs": [
        {
          "output_type": "execute_result",
          "data": {
            "text/plain": [
              "dtype('O')"
            ]
          },
          "metadata": {
            "tags": []
          },
          "execution_count": 26
        }
      ]
    },
    {
      "cell_type": "code",
      "metadata": {
        "lines_to_next_cell": 2,
        "id": "YhievNSw6Sxx",
        "colab_type": "code",
        "colab": {
          "base_uri": "https://localhost:8080/",
          "height": 35
        },
        "outputId": "1fd30c70-f2a7-4ae4-cd9c-655b58a1757b"
      },
      "source": [
        "movies['director_name'].size"
      ],
      "execution_count": 27,
      "outputs": [
        {
          "output_type": "execute_result",
          "data": {
            "text/plain": [
              "4916"
            ]
          },
          "metadata": {
            "tags": []
          },
          "execution_count": 27
        }
      ]
    },
    {
      "cell_type": "code",
      "metadata": {
        "lines_to_next_cell": 2,
        "id": "s6P3x4N46Sxz",
        "colab_type": "code",
        "colab": {
          "base_uri": "https://localhost:8080/",
          "height": 35
        },
        "outputId": "da1bb9a3-b472-40cc-e091-9f6982844e34"
      },
      "source": [
        "movies['director_name'].name"
      ],
      "execution_count": 28,
      "outputs": [
        {
          "output_type": "execute_result",
          "data": {
            "application/vnd.google.colaboratory.intrinsic+json": {
              "type": "string"
            },
            "text/plain": [
              "'director_name'"
            ]
          },
          "metadata": {
            "tags": []
          },
          "execution_count": 28
        }
      ]
    },
    {
      "cell_type": "code",
      "metadata": {
        "lines_to_next_cell": 2,
        "id": "JgI6d9fm6Sx1",
        "colab_type": "code",
        "colab": {
          "base_uri": "https://localhost:8080/",
          "height": 35
        },
        "outputId": "4b0a7000-edad-468e-bda2-f9bbeb0d2ee4"
      },
      "source": [
        "type(movies['director_name'])"
      ],
      "execution_count": 29,
      "outputs": [
        {
          "output_type": "execute_result",
          "data": {
            "text/plain": [
              "pandas.core.series.Series"
            ]
          },
          "metadata": {
            "tags": []
          },
          "execution_count": 29
        }
      ]
    },
    {
      "cell_type": "code",
      "metadata": {
        "lines_to_next_cell": 2,
        "id": "gTr2AFul6Sx3",
        "colab_type": "code",
        "colab": {
          "base_uri": "https://localhost:8080/",
          "height": 35
        },
        "outputId": "3ba97a25-3401-433f-d46e-280b88d7b2f6"
      },
      "source": [
        "movies['director_name'].apply(type).unique()"
      ],
      "execution_count": 30,
      "outputs": [
        {
          "output_type": "execute_result",
          "data": {
            "text/plain": [
              "array([<class 'str'>, <class 'float'>], dtype=object)"
            ]
          },
          "metadata": {
            "tags": []
          },
          "execution_count": 30
        }
      ]
    },
    {
      "cell_type": "markdown",
      "metadata": {
        "id": "sfqoufod6Sx6",
        "colab_type": "text"
      },
      "source": [
        "### How it works..."
      ]
    },
    {
      "cell_type": "markdown",
      "metadata": {
        "id": "uidKtUEX6Sx7",
        "colab_type": "text"
      },
      "source": [
        "### There's more"
      ]
    },
    {
      "cell_type": "markdown",
      "metadata": {
        "id": "K_dD4QZX6Sx8",
        "colab_type": "text"
      },
      "source": [
        "### See also"
      ]
    },
    {
      "cell_type": "markdown",
      "metadata": {
        "id": "3-t7hFqe6Sx8",
        "colab_type": "text"
      },
      "source": [
        "## Calling Series Methods"
      ]
    },
    {
      "cell_type": "code",
      "metadata": {
        "lines_to_next_cell": 2,
        "id": "Nw47myUu6Sx9",
        "colab_type": "code",
        "colab": {
          "base_uri": "https://localhost:8080/",
          "height": 35
        },
        "outputId": "9ad5d5fe-92d5-4e43-a3fe-d447c629217c"
      },
      "source": [
        "s_attr_methods = set(dir(pd.Series))\n",
        "len(s_attr_methods)"
      ],
      "execution_count": 33,
      "outputs": [
        {
          "output_type": "execute_result",
          "data": {
            "text/plain": [
              "433"
            ]
          },
          "metadata": {
            "tags": []
          },
          "execution_count": 33
        }
      ]
    },
    {
      "cell_type": "code",
      "metadata": {
        "lines_to_next_cell": 2,
        "id": "YSTh5y4x6Sx_",
        "colab_type": "code",
        "colab": {
          "base_uri": "https://localhost:8080/",
          "height": 35
        },
        "outputId": "ae141569-6a0c-4434-a3d5-69388cd11189"
      },
      "source": [
        "df_attr_methods = set(dir(pd.DataFrame))\n",
        "len(df_attr_methods)"
      ],
      "execution_count": 34,
      "outputs": [
        {
          "output_type": "execute_result",
          "data": {
            "text/plain": [
              "430"
            ]
          },
          "metadata": {
            "tags": []
          },
          "execution_count": 34
        }
      ]
    },
    {
      "cell_type": "code",
      "metadata": {
        "lines_to_next_cell": 2,
        "id": "QGH1n1I06SyC",
        "colab_type": "code",
        "colab": {
          "base_uri": "https://localhost:8080/",
          "height": 35
        },
        "outputId": "9ae30fcf-83ef-4df3-a1c4-5d8e37e2a045"
      },
      "source": [
        "len(s_attr_methods & df_attr_methods)"
      ],
      "execution_count": 35,
      "outputs": [
        {
          "output_type": "execute_result",
          "data": {
            "text/plain": [
              "377"
            ]
          },
          "metadata": {
            "tags": []
          },
          "execution_count": 35
        }
      ]
    },
    {
      "cell_type": "markdown",
      "metadata": {
        "id": "2lUpRY196SyE",
        "colab_type": "text"
      },
      "source": [
        "### How to do it... {#how-to-do-it-4}"
      ]
    },
    {
      "cell_type": "code",
      "metadata": {
        "lines_to_next_cell": 2,
        "id": "utoZ6JOr6SyE",
        "colab_type": "code",
        "colab": {}
      },
      "source": [
        "movies = pd.read_csv('data/movie.csv')\n",
        "director = movies['director_name']\n",
        "fb_likes = movies['actor_1_facebook_likes']"
      ],
      "execution_count": 36,
      "outputs": []
    },
    {
      "cell_type": "code",
      "metadata": {
        "lines_to_next_cell": 2,
        "id": "rbBikzCC6SyG",
        "colab_type": "code",
        "colab": {
          "base_uri": "https://localhost:8080/",
          "height": 35
        },
        "outputId": "1598614f-d196-428b-b423-0be4837e4a01"
      },
      "source": [
        "director.dtype"
      ],
      "execution_count": 37,
      "outputs": [
        {
          "output_type": "execute_result",
          "data": {
            "text/plain": [
              "dtype('O')"
            ]
          },
          "metadata": {
            "tags": []
          },
          "execution_count": 37
        }
      ]
    },
    {
      "cell_type": "code",
      "metadata": {
        "lines_to_next_cell": 2,
        "id": "joss2uBI6SyJ",
        "colab_type": "code",
        "colab": {
          "base_uri": "https://localhost:8080/",
          "height": 35
        },
        "outputId": "2e79c09b-9c9f-46be-9bc5-6ae59417c7ba"
      },
      "source": [
        "fb_likes.dtype"
      ],
      "execution_count": 38,
      "outputs": [
        {
          "output_type": "execute_result",
          "data": {
            "text/plain": [
              "dtype('float64')"
            ]
          },
          "metadata": {
            "tags": []
          },
          "execution_count": 38
        }
      ]
    },
    {
      "cell_type": "code",
      "metadata": {
        "lines_to_next_cell": 2,
        "id": "TYRbyMR86SyM",
        "colab_type": "code",
        "colab": {
          "base_uri": "https://localhost:8080/",
          "height": 121
        },
        "outputId": "62d1de61-02de-4318-a240-23a28d493290"
      },
      "source": [
        "director.head()"
      ],
      "execution_count": 39,
      "outputs": [
        {
          "output_type": "execute_result",
          "data": {
            "text/plain": [
              "0        James Cameron\n",
              "1       Gore Verbinski\n",
              "2           Sam Mendes\n",
              "3    Christopher Nolan\n",
              "4          Doug Walker\n",
              "Name: director_name, dtype: object"
            ]
          },
          "metadata": {
            "tags": []
          },
          "execution_count": 39
        }
      ]
    },
    {
      "cell_type": "code",
      "metadata": {
        "lines_to_next_cell": 2,
        "id": "3yn3l8ud6SyP",
        "colab_type": "code",
        "colab": {
          "base_uri": "https://localhost:8080/",
          "height": 121
        },
        "outputId": "ef494128-73bb-45d7-ffc3-1eed68a21e22"
      },
      "source": [
        "director.sample(n=5, random_state=43)"
      ],
      "execution_count": 43,
      "outputs": [
        {
          "output_type": "execute_result",
          "data": {
            "text/plain": [
              "991        Peter Webber\n",
              "1898         Ken Kwapis\n",
              "3389      Sacha Bennett\n",
              "1148    Reginald Hudlin\n",
              "4122        Danny Perez\n",
              "Name: director_name, dtype: object"
            ]
          },
          "metadata": {
            "tags": []
          },
          "execution_count": 43
        }
      ]
    },
    {
      "cell_type": "code",
      "metadata": {
        "lines_to_next_cell": 2,
        "id": "laPiHbsb6SyR",
        "colab_type": "code",
        "colab": {}
      },
      "source": [
        "fb_likes.head()"
      ],
      "execution_count": null,
      "outputs": []
    },
    {
      "cell_type": "code",
      "metadata": {
        "lines_to_next_cell": 2,
        "id": "Y9CfIojd6SyU",
        "colab_type": "code",
        "colab": {
          "base_uri": "https://localhost:8080/",
          "height": 225
        },
        "outputId": "de0b780f-8620-4fb2-e72c-a23c146975af"
      },
      "source": [
        "director.value_counts()"
      ],
      "execution_count": 44,
      "outputs": [
        {
          "output_type": "execute_result",
          "data": {
            "text/plain": [
              "Steven Spielberg     26\n",
              "Woody Allen          22\n",
              "Clint Eastwood       20\n",
              "Martin Scorsese      20\n",
              "Ridley Scott         16\n",
              "                     ..\n",
              "Kevin Hooks           1\n",
              "Ricki Stern           1\n",
              "Nicholaus Goossen     1\n",
              "Tay Garnett           1\n",
              "Harmony Korine        1\n",
              "Name: director_name, Length: 2397, dtype: int64"
            ]
          },
          "metadata": {
            "tags": []
          },
          "execution_count": 44
        }
      ]
    },
    {
      "cell_type": "code",
      "metadata": {
        "lines_to_next_cell": 2,
        "id": "H75MqIng6SyY",
        "colab_type": "code",
        "colab": {
          "base_uri": "https://localhost:8080/",
          "height": 225
        },
        "outputId": "606e547e-2f25-4788-d125-0f5c5652cf87"
      },
      "source": [
        "fb_likes.value_counts()"
      ],
      "execution_count": 45,
      "outputs": [
        {
          "output_type": "execute_result",
          "data": {
            "text/plain": [
              "1000.0     436\n",
              "11000.0    206\n",
              "2000.0     189\n",
              "3000.0     150\n",
              "12000.0    131\n",
              "          ... \n",
              "362.0        1\n",
              "216.0        1\n",
              "859.0        1\n",
              "225.0        1\n",
              "334.0        1\n",
              "Name: actor_1_facebook_likes, Length: 877, dtype: int64"
            ]
          },
          "metadata": {
            "tags": []
          },
          "execution_count": 45
        }
      ]
    },
    {
      "cell_type": "code",
      "metadata": {
        "lines_to_next_cell": 2,
        "id": "S0RYI-wS6Syb",
        "colab_type": "code",
        "colab": {
          "base_uri": "https://localhost:8080/",
          "height": 35
        },
        "outputId": "2123e8a2-e5b5-445b-b532-5607db3a92b6"
      },
      "source": [
        "director.size"
      ],
      "execution_count": 46,
      "outputs": [
        {
          "output_type": "execute_result",
          "data": {
            "text/plain": [
              "4916"
            ]
          },
          "metadata": {
            "tags": []
          },
          "execution_count": 46
        }
      ]
    },
    {
      "cell_type": "code",
      "metadata": {
        "lines_to_next_cell": 2,
        "id": "Q3XzNzJ26Syg",
        "colab_type": "code",
        "colab": {
          "base_uri": "https://localhost:8080/",
          "height": 35
        },
        "outputId": "237b2c8c-1849-4253-b7d5-56d0b2433956"
      },
      "source": [
        "director.shape"
      ],
      "execution_count": 47,
      "outputs": [
        {
          "output_type": "execute_result",
          "data": {
            "text/plain": [
              "(4916,)"
            ]
          },
          "metadata": {
            "tags": []
          },
          "execution_count": 47
        }
      ]
    },
    {
      "cell_type": "code",
      "metadata": {
        "lines_to_next_cell": 2,
        "id": "QCETQ80z6Syk",
        "colab_type": "code",
        "colab": {
          "base_uri": "https://localhost:8080/",
          "height": 35
        },
        "outputId": "e9765a96-1333-4bfd-9898-6aaf0828bec1"
      },
      "source": [
        "len(director)"
      ],
      "execution_count": 48,
      "outputs": [
        {
          "output_type": "execute_result",
          "data": {
            "text/plain": [
              "4916"
            ]
          },
          "metadata": {
            "tags": []
          },
          "execution_count": 48
        }
      ]
    },
    {
      "cell_type": "code",
      "metadata": {
        "lines_to_next_cell": 2,
        "id": "dsuHE2sS6Syo",
        "colab_type": "code",
        "colab": {
          "base_uri": "https://localhost:8080/",
          "height": 35
        },
        "outputId": "4d41d565-985e-470c-8fae-b64d30a6a2eb"
      },
      "source": [
        "len(director.unique())"
      ],
      "execution_count": 52,
      "outputs": [
        {
          "output_type": "execute_result",
          "data": {
            "text/plain": [
              "2398"
            ]
          },
          "metadata": {
            "tags": []
          },
          "execution_count": 52
        }
      ]
    },
    {
      "cell_type": "code",
      "metadata": {
        "lines_to_next_cell": 2,
        "id": "jkraAoyN6Syr",
        "colab_type": "code",
        "colab": {
          "base_uri": "https://localhost:8080/",
          "height": 35
        },
        "outputId": "244e05da-5ff1-4fb5-fe37-fdf70ff0896c"
      },
      "source": [
        "director.count()"
      ],
      "execution_count": 50,
      "outputs": [
        {
          "output_type": "execute_result",
          "data": {
            "text/plain": [
              "4814"
            ]
          },
          "metadata": {
            "tags": []
          },
          "execution_count": 50
        }
      ]
    },
    {
      "cell_type": "code",
      "metadata": {
        "lines_to_next_cell": 2,
        "id": "L28n8cvZ6Syw",
        "colab_type": "code",
        "colab": {
          "base_uri": "https://localhost:8080/",
          "height": 35
        },
        "outputId": "e918e1af-358c-48b4-9850-593a1a35bedb"
      },
      "source": [
        "fb_likes.count()"
      ],
      "execution_count": 53,
      "outputs": [
        {
          "output_type": "execute_result",
          "data": {
            "text/plain": [
              "4909"
            ]
          },
          "metadata": {
            "tags": []
          },
          "execution_count": 53
        }
      ]
    },
    {
      "cell_type": "code",
      "metadata": {
        "lines_to_next_cell": 2,
        "id": "anuIJL8d6Syz",
        "colab_type": "code",
        "colab": {
          "base_uri": "https://localhost:8080/",
          "height": 35
        },
        "outputId": "a3b8c821-c8b9-4b92-ff49-6659214fcb7d"
      },
      "source": [
        "fb_likes.quantile()"
      ],
      "execution_count": 54,
      "outputs": [
        {
          "output_type": "execute_result",
          "data": {
            "text/plain": [
              "982.0"
            ]
          },
          "metadata": {
            "tags": []
          },
          "execution_count": 54
        }
      ]
    },
    {
      "cell_type": "code",
      "metadata": {
        "lines_to_next_cell": 2,
        "id": "VaxX_0iE6Sy4",
        "colab_type": "code",
        "colab": {
          "base_uri": "https://localhost:8080/",
          "height": 35
        },
        "outputId": "421596a0-c03e-4501-e533-ce5efd66879b"
      },
      "source": [
        "fb_likes.min()"
      ],
      "execution_count": 55,
      "outputs": [
        {
          "output_type": "execute_result",
          "data": {
            "text/plain": [
              "0.0"
            ]
          },
          "metadata": {
            "tags": []
          },
          "execution_count": 55
        }
      ]
    },
    {
      "cell_type": "code",
      "metadata": {
        "lines_to_next_cell": 2,
        "id": "br2rC6oF6Sy_",
        "colab_type": "code",
        "colab": {
          "base_uri": "https://localhost:8080/",
          "height": 35
        },
        "outputId": "046c4f2a-545a-4f72-a2e6-ed12b1c7f2f9"
      },
      "source": [
        "fb_likes.max()"
      ],
      "execution_count": 56,
      "outputs": [
        {
          "output_type": "execute_result",
          "data": {
            "text/plain": [
              "640000.0"
            ]
          },
          "metadata": {
            "tags": []
          },
          "execution_count": 56
        }
      ]
    },
    {
      "cell_type": "code",
      "metadata": {
        "lines_to_next_cell": 2,
        "id": "djVO07qi6SzC",
        "colab_type": "code",
        "colab": {
          "base_uri": "https://localhost:8080/",
          "height": 35
        },
        "outputId": "0c57f1e1-a9ba-4215-82e0-4abf749e3e43"
      },
      "source": [
        "fb_likes.mean()"
      ],
      "execution_count": 57,
      "outputs": [
        {
          "output_type": "execute_result",
          "data": {
            "text/plain": [
              "6494.488490527602"
            ]
          },
          "metadata": {
            "tags": []
          },
          "execution_count": 57
        }
      ]
    },
    {
      "cell_type": "code",
      "metadata": {
        "lines_to_next_cell": 2,
        "id": "kYLCM8YJ6SzI",
        "colab_type": "code",
        "colab": {
          "base_uri": "https://localhost:8080/",
          "height": 35
        },
        "outputId": "b8b7995f-2414-419c-e549-47ae7bf5388e"
      },
      "source": [
        "fb_likes.median()"
      ],
      "execution_count": 58,
      "outputs": [
        {
          "output_type": "execute_result",
          "data": {
            "text/plain": [
              "982.0"
            ]
          },
          "metadata": {
            "tags": []
          },
          "execution_count": 58
        }
      ]
    },
    {
      "cell_type": "code",
      "metadata": {
        "lines_to_next_cell": 2,
        "id": "ybNcvNyO6SzL",
        "colab_type": "code",
        "colab": {
          "base_uri": "https://localhost:8080/",
          "height": 35
        },
        "outputId": "01b2b485-8b75-4fb2-cdaf-7959751c4d8b"
      },
      "source": [
        "fb_likes.std()"
      ],
      "execution_count": 59,
      "outputs": [
        {
          "output_type": "execute_result",
          "data": {
            "text/plain": [
              "15106.986883848309"
            ]
          },
          "metadata": {
            "tags": []
          },
          "execution_count": 59
        }
      ]
    },
    {
      "cell_type": "code",
      "metadata": {
        "lines_to_next_cell": 2,
        "id": "uubQByQp6SzO",
        "colab_type": "code",
        "colab": {
          "base_uri": "https://localhost:8080/",
          "height": 173
        },
        "outputId": "c4636221-75b4-4c70-9562-5310e2be49aa"
      },
      "source": [
        "fb_likes.describe()"
      ],
      "execution_count": 60,
      "outputs": [
        {
          "output_type": "execute_result",
          "data": {
            "text/plain": [
              "count      4909.000000\n",
              "mean       6494.488491\n",
              "std       15106.986884\n",
              "min           0.000000\n",
              "25%         607.000000\n",
              "50%         982.000000\n",
              "75%       11000.000000\n",
              "max      640000.000000\n",
              "Name: actor_1_facebook_likes, dtype: float64"
            ]
          },
          "metadata": {
            "tags": []
          },
          "execution_count": 60
        }
      ]
    },
    {
      "cell_type": "code",
      "metadata": {
        "lines_to_next_cell": 2,
        "id": "3K5f6WlE6SzR",
        "colab_type": "code",
        "colab": {}
      },
      "source": [
        "director.describe()"
      ],
      "execution_count": null,
      "outputs": []
    },
    {
      "cell_type": "code",
      "metadata": {
        "lines_to_next_cell": 2,
        "id": "nD9IJZ1i6SzW",
        "colab_type": "code",
        "colab": {
          "base_uri": "https://localhost:8080/",
          "height": 35
        },
        "outputId": "a9aa834d-d4f7-4952-d195-254d4e78d10f"
      },
      "source": [
        "fb_likes.quantile(.25)"
      ],
      "execution_count": 61,
      "outputs": [
        {
          "output_type": "execute_result",
          "data": {
            "text/plain": [
              "607.0"
            ]
          },
          "metadata": {
            "tags": []
          },
          "execution_count": 61
        }
      ]
    },
    {
      "cell_type": "code",
      "metadata": {
        "lines_to_next_cell": 2,
        "id": "301BQS9Y6SzZ",
        "colab_type": "code",
        "colab": {}
      },
      "source": [
        "fb_likes.quantile([.1, .2, .3, .4, .5, .6, .7, .8, .9])"
      ],
      "execution_count": null,
      "outputs": []
    },
    {
      "cell_type": "code",
      "metadata": {
        "lines_to_next_cell": 2,
        "id": "_paeHfu36Szc",
        "colab_type": "code",
        "colab": {
          "base_uri": "https://localhost:8080/",
          "height": 225
        },
        "outputId": "92e66203-d04f-4c9f-be24-4674ea3fe739"
      },
      "source": [
        "director.isna()"
      ],
      "execution_count": 62,
      "outputs": [
        {
          "output_type": "execute_result",
          "data": {
            "text/plain": [
              "0       False\n",
              "1       False\n",
              "2       False\n",
              "3       False\n",
              "4       False\n",
              "        ...  \n",
              "4911    False\n",
              "4912     True\n",
              "4913    False\n",
              "4914    False\n",
              "4915    False\n",
              "Name: director_name, Length: 4916, dtype: bool"
            ]
          },
          "metadata": {
            "tags": []
          },
          "execution_count": 62
        }
      ]
    },
    {
      "cell_type": "code",
      "metadata": {
        "lines_to_next_cell": 2,
        "id": "UmG6RA0L6Szf",
        "colab_type": "code",
        "colab": {
          "base_uri": "https://localhost:8080/",
          "height": 35
        },
        "outputId": "78e90e90-fd68-4c14-ddc6-3777251bbece"
      },
      "source": [
        "fb_likes_filled = fb_likes.fillna(0)\n",
        "fb_likes_filled.count()"
      ],
      "execution_count": 64,
      "outputs": [
        {
          "output_type": "execute_result",
          "data": {
            "text/plain": [
              "4916"
            ]
          },
          "metadata": {
            "tags": []
          },
          "execution_count": 64
        }
      ]
    },
    {
      "cell_type": "code",
      "metadata": {
        "lines_to_next_cell": 2,
        "id": "QhOZAcUj6Szh",
        "colab_type": "code",
        "colab": {}
      },
      "source": [
        "fb_likes_dropped = fb_likes.dropna()\n",
        "fb_likes_dropped.size"
      ],
      "execution_count": null,
      "outputs": []
    },
    {
      "cell_type": "markdown",
      "metadata": {
        "id": "vMTkKTZ16Szj",
        "colab_type": "text"
      },
      "source": [
        "### How it works..."
      ]
    },
    {
      "cell_type": "markdown",
      "metadata": {
        "id": "tyCjrf-V6Szk",
        "colab_type": "text"
      },
      "source": [
        "### There's more..."
      ]
    },
    {
      "cell_type": "code",
      "metadata": {
        "lines_to_next_cell": 2,
        "id": "ej2b13Hh6Szk",
        "colab_type": "code",
        "colab": {
          "base_uri": "https://localhost:8080/",
          "height": 173
        },
        "outputId": "8a8ef690-8078-4a41-a001-9b2335e2302f"
      },
      "source": [
        "director.value_counts(normalize=True).describe()"
      ],
      "execution_count": 68,
      "outputs": [
        {
          "output_type": "execute_result",
          "data": {
            "text/plain": [
              "count    2397.000000\n",
              "mean        0.000417\n",
              "std         0.000429\n",
              "min         0.000208\n",
              "25%         0.000208\n",
              "50%         0.000208\n",
              "75%         0.000415\n",
              "max         0.005401\n",
              "Name: director_name, dtype: float64"
            ]
          },
          "metadata": {
            "tags": []
          },
          "execution_count": 68
        }
      ]
    },
    {
      "cell_type": "code",
      "metadata": {
        "lines_to_next_cell": 2,
        "id": "wRFmGTIn6Szm",
        "colab_type": "code",
        "colab": {
          "base_uri": "https://localhost:8080/",
          "height": 35
        },
        "outputId": "3d797749-a3e9-4ff9-8338-4ba811a9eca3"
      },
      "source": [
        "director.hasnans"
      ],
      "execution_count": 69,
      "outputs": [
        {
          "output_type": "execute_result",
          "data": {
            "text/plain": [
              "True"
            ]
          },
          "metadata": {
            "tags": []
          },
          "execution_count": 69
        }
      ]
    },
    {
      "cell_type": "code",
      "metadata": {
        "lines_to_next_cell": 2,
        "id": "TO4t-lZb6Szo",
        "colab_type": "code",
        "colab": {
          "base_uri": "https://localhost:8080/",
          "height": 225
        },
        "outputId": "4f634439-ab53-4068-cf52-f35f96a4a2cb"
      },
      "source": [
        "director.notna()"
      ],
      "execution_count": 70,
      "outputs": [
        {
          "output_type": "execute_result",
          "data": {
            "text/plain": [
              "0        True\n",
              "1        True\n",
              "2        True\n",
              "3        True\n",
              "4        True\n",
              "        ...  \n",
              "4911     True\n",
              "4912    False\n",
              "4913     True\n",
              "4914     True\n",
              "4915     True\n",
              "Name: director_name, Length: 4916, dtype: bool"
            ]
          },
          "metadata": {
            "tags": []
          },
          "execution_count": 70
        }
      ]
    },
    {
      "cell_type": "markdown",
      "metadata": {
        "id": "aCbitgVb6Szq",
        "colab_type": "text"
      },
      "source": [
        "### See also"
      ]
    },
    {
      "cell_type": "markdown",
      "metadata": {
        "id": "0N_XoJ3Z6Szq",
        "colab_type": "text"
      },
      "source": [
        "## Series Operations"
      ]
    },
    {
      "cell_type": "code",
      "metadata": {
        "lines_to_next_cell": 2,
        "id": "bsYXCko76Szr",
        "colab_type": "code",
        "colab": {}
      },
      "source": [
        "5 + 9    # plus operator example. Adds 5 and 9"
      ],
      "execution_count": null,
      "outputs": []
    },
    {
      "cell_type": "markdown",
      "metadata": {
        "id": "SfAFRf6S6Szs",
        "colab_type": "text"
      },
      "source": [
        "### How to do it... {#how-to-do-it-5}"
      ]
    },
    {
      "cell_type": "code",
      "metadata": {
        "lines_to_next_cell": 2,
        "id": "BOJKJsPs6Szt",
        "colab_type": "code",
        "colab": {}
      },
      "source": [
        "movies = pd.read_csv('data/movie.csv')\n",
        "imdb_score = movies['imdb_score']\n",
        "imdb_score"
      ],
      "execution_count": null,
      "outputs": []
    },
    {
      "cell_type": "code",
      "metadata": {
        "lines_to_next_cell": 2,
        "id": "3eOKItXC6Szu",
        "colab_type": "code",
        "colab": {}
      },
      "source": [
        "imdb_score + 1"
      ],
      "execution_count": null,
      "outputs": []
    },
    {
      "cell_type": "code",
      "metadata": {
        "lines_to_next_cell": 2,
        "id": "sIjGwWtb6Szw",
        "colab_type": "code",
        "colab": {}
      },
      "source": [
        "imdb_score * 2.5"
      ],
      "execution_count": null,
      "outputs": []
    },
    {
      "cell_type": "code",
      "metadata": {
        "lines_to_next_cell": 2,
        "id": "oRYmO6106Szy",
        "colab_type": "code",
        "colab": {}
      },
      "source": [
        "imdb_score // 7"
      ],
      "execution_count": null,
      "outputs": []
    },
    {
      "cell_type": "code",
      "metadata": {
        "lines_to_next_cell": 2,
        "id": "z9jo12GL6Sz2",
        "colab_type": "code",
        "colab": {}
      },
      "source": [
        "imdb_score > 7"
      ],
      "execution_count": null,
      "outputs": []
    },
    {
      "cell_type": "code",
      "metadata": {
        "lines_to_next_cell": 2,
        "id": "sdTbUKyu6Sz4",
        "colab_type": "code",
        "colab": {}
      },
      "source": [
        "director = movies['director_name']\n",
        "director == 'James Cameron'"
      ],
      "execution_count": null,
      "outputs": []
    },
    {
      "cell_type": "markdown",
      "metadata": {
        "id": "nKZaSxzl6Sz7",
        "colab_type": "text"
      },
      "source": [
        "### How it works..."
      ]
    },
    {
      "cell_type": "markdown",
      "metadata": {
        "id": "5ZkfPtkm6Sz8",
        "colab_type": "text"
      },
      "source": [
        "### There's more..."
      ]
    },
    {
      "cell_type": "code",
      "metadata": {
        "lines_to_next_cell": 2,
        "id": "JtnltbVg6Sz8",
        "colab_type": "code",
        "colab": {}
      },
      "source": [
        "imdb_score.add(1)   # imdb_score + 1"
      ],
      "execution_count": null,
      "outputs": []
    },
    {
      "cell_type": "code",
      "metadata": {
        "lines_to_next_cell": 2,
        "id": "2fUdRZTo6Sz-",
        "colab_type": "code",
        "colab": {}
      },
      "source": [
        "imdb_score.gt(7)   # imdb_score > 7"
      ],
      "execution_count": null,
      "outputs": []
    },
    {
      "cell_type": "markdown",
      "metadata": {
        "id": "sdlo9nZE6S0A",
        "colab_type": "text"
      },
      "source": [
        "### See also"
      ]
    },
    {
      "cell_type": "markdown",
      "metadata": {
        "id": "8hI4yofS6S0B",
        "colab_type": "text"
      },
      "source": [
        "## Chaining Series Methods"
      ]
    },
    {
      "cell_type": "markdown",
      "metadata": {
        "id": "pWp2R92E6S0B",
        "colab_type": "text"
      },
      "source": [
        "### How to do it... {#how-to-do-it-6}"
      ]
    },
    {
      "cell_type": "code",
      "metadata": {
        "lines_to_next_cell": 2,
        "id": "TT2uCq4X6S0C",
        "colab_type": "code",
        "colab": {}
      },
      "source": [
        "movies = pd.read_csv('data/movie.csv')\n",
        "fb_likes = movies['actor_1_facebook_likes']\n",
        "director = movies['director_name']"
      ],
      "execution_count": null,
      "outputs": []
    },
    {
      "cell_type": "code",
      "metadata": {
        "lines_to_next_cell": 2,
        "id": "3R8P-EVn6S0E",
        "colab_type": "code",
        "colab": {}
      },
      "source": [
        "director.value_counts().head(3)"
      ],
      "execution_count": null,
      "outputs": []
    },
    {
      "cell_type": "code",
      "metadata": {
        "lines_to_next_cell": 2,
        "id": "XQaLRN_66S0G",
        "colab_type": "code",
        "colab": {}
      },
      "source": [
        "fb_likes.isna().sum()"
      ],
      "execution_count": null,
      "outputs": []
    },
    {
      "cell_type": "code",
      "metadata": {
        "lines_to_next_cell": 2,
        "id": "ds_RhFC66S0I",
        "colab_type": "code",
        "colab": {
          "base_uri": "https://localhost:8080/",
          "height": 35
        },
        "outputId": "f273e7f2-d462-4c22-8858-2c349915da2b"
      },
      "source": [
        "fb_likes.dtype"
      ],
      "execution_count": 71,
      "outputs": [
        {
          "output_type": "execute_result",
          "data": {
            "text/plain": [
              "dtype('float64')"
            ]
          },
          "metadata": {
            "tags": []
          },
          "execution_count": 71
        }
      ]
    },
    {
      "cell_type": "code",
      "metadata": {
        "lines_to_next_cell": 2,
        "id": "PfxS5GBS6S0J",
        "colab_type": "code",
        "colab": {
          "base_uri": "https://localhost:8080/",
          "height": 225
        },
        "outputId": "904a4824-6cd6-46cc-c9be-25e4c9007af1"
      },
      "source": [
        "(fb_likes.fillna(0)\n",
        "         .astype(int)\n",
        ")"
      ],
      "execution_count": 72,
      "outputs": [
        {
          "output_type": "execute_result",
          "data": {
            "text/plain": [
              "0        1000\n",
              "1       40000\n",
              "2       11000\n",
              "3       27000\n",
              "4         131\n",
              "        ...  \n",
              "4911      637\n",
              "4912      841\n",
              "4913        0\n",
              "4914      946\n",
              "4915       86\n",
              "Name: actor_1_facebook_likes, Length: 4916, dtype: int64"
            ]
          },
          "metadata": {
            "tags": []
          },
          "execution_count": 72
        }
      ]
    },
    {
      "cell_type": "markdown",
      "metadata": {
        "id": "yAQrDcma6S0N",
        "colab_type": "text"
      },
      "source": [
        "### How it works..."
      ]
    },
    {
      "cell_type": "markdown",
      "metadata": {
        "id": "Sfwu8r3S6S0N",
        "colab_type": "text"
      },
      "source": [
        "### There's more..."
      ]
    },
    {
      "cell_type": "code",
      "metadata": {
        "lines_to_next_cell": 2,
        "id": "b4fcy5za6S0N",
        "colab_type": "code",
        "colab": {}
      },
      "source": [
        "(fb_likes.fillna(0)\n",
        "         #.astype(int)\n",
        "         #.head()\n",
        ")"
      ],
      "execution_count": null,
      "outputs": []
    },
    {
      "cell_type": "code",
      "metadata": {
        "lines_to_next_cell": 2,
        "id": "UnfuFcMv6S0Q",
        "colab_type": "code",
        "colab": {}
      },
      "source": [
        "(fb_likes.fillna(0)\n",
        "         .astype(int)\n",
        "         #.head()\n",
        ")"
      ],
      "execution_count": null,
      "outputs": []
    },
    {
      "cell_type": "code",
      "metadata": {
        "lines_to_next_cell": 2,
        "id": "jfzjJVFC6S0T",
        "colab_type": "code",
        "colab": {
          "base_uri": "https://localhost:8080/",
          "height": 35
        },
        "outputId": "b545ff87-1e79-4a7d-f919-454293811ec3"
      },
      "source": [
        "fb_likes.isna().mean()"
      ],
      "execution_count": 73,
      "outputs": [
        {
          "output_type": "execute_result",
          "data": {
            "text/plain": [
              "0.0014239218877135883"
            ]
          },
          "metadata": {
            "tags": []
          },
          "execution_count": 73
        }
      ]
    },
    {
      "cell_type": "code",
      "metadata": {
        "id": "AWm9M0Dt6S0U",
        "colab_type": "code",
        "colab": {}
      },
      "source": [
        "fb_likes.fillna(0) \\\n",
        "        .astype(int) \\\n",
        "        .head()"
      ],
      "execution_count": null,
      "outputs": []
    },
    {
      "cell_type": "code",
      "metadata": {
        "id": "dewwV-Ab6S0Y",
        "colab_type": "code",
        "colab": {}
      },
      "source": [
        "def debug_df(df):\n",
        "    print(\"BEFORE\")\n",
        "    print(df)\n",
        "    print(\"AFTER\")\n",
        "    return df"
      ],
      "execution_count": 74,
      "outputs": []
    },
    {
      "cell_type": "code",
      "metadata": {
        "lines_to_next_cell": 2,
        "id": "a9BXk_Qk6S0Z",
        "colab_type": "code",
        "colab": {
          "base_uri": "https://localhost:8080/",
          "height": 364
        },
        "outputId": "fa7c82da-16f9-41c4-c553-e5e230293bf5"
      },
      "source": [
        "(fb_likes.fillna(0)\n",
        "         .pipe(debug_df)\n",
        "         .astype(int) \n",
        "         .head()\n",
        ")"
      ],
      "execution_count": 75,
      "outputs": [
        {
          "output_type": "stream",
          "text": [
            "BEFORE\n",
            "0        1000.0\n",
            "1       40000.0\n",
            "2       11000.0\n",
            "3       27000.0\n",
            "4         131.0\n",
            "         ...   \n",
            "4911      637.0\n",
            "4912      841.0\n",
            "4913        0.0\n",
            "4914      946.0\n",
            "4915       86.0\n",
            "Name: actor_1_facebook_likes, Length: 4916, dtype: float64\n",
            "AFTER\n"
          ],
          "name": "stdout"
        },
        {
          "output_type": "execute_result",
          "data": {
            "text/plain": [
              "0     1000\n",
              "1    40000\n",
              "2    11000\n",
              "3    27000\n",
              "4      131\n",
              "Name: actor_1_facebook_likes, dtype: int64"
            ]
          },
          "metadata": {
            "tags": []
          },
          "execution_count": 75
        }
      ]
    },
    {
      "cell_type": "code",
      "metadata": {
        "id": "pTgE9GuH6S0b",
        "colab_type": "code",
        "colab": {}
      },
      "source": [
        "intermediate = None\n",
        "def get_intermediate(df):\n",
        "    global intermediate\n",
        "    intermediate = df\n",
        "    return df"
      ],
      "execution_count": 77,
      "outputs": []
    },
    {
      "cell_type": "code",
      "metadata": {
        "lines_to_next_cell": 2,
        "id": "KmPDQJHp6S0c",
        "colab_type": "code",
        "colab": {}
      },
      "source": [
        "res = (fb_likes.fillna(0)\n",
        "         .pipe(get_intermediate)\n",
        "         .astype(int) \n",
        "         .head()\n",
        ")"
      ],
      "execution_count": 78,
      "outputs": []
    },
    {
      "cell_type": "code",
      "metadata": {
        "lines_to_next_cell": 2,
        "id": "3Dh54Dcx6S0e",
        "colab_type": "code",
        "colab": {
          "base_uri": "https://localhost:8080/",
          "height": 225
        },
        "outputId": "48afa801-6f57-4e9c-d7f6-69ef1b1191dc"
      },
      "source": [
        "intermediate"
      ],
      "execution_count": 79,
      "outputs": [
        {
          "output_type": "execute_result",
          "data": {
            "text/plain": [
              "0        1000.0\n",
              "1       40000.0\n",
              "2       11000.0\n",
              "3       27000.0\n",
              "4         131.0\n",
              "         ...   \n",
              "4911      637.0\n",
              "4912      841.0\n",
              "4913        0.0\n",
              "4914      946.0\n",
              "4915       86.0\n",
              "Name: actor_1_facebook_likes, Length: 4916, dtype: float64"
            ]
          },
          "metadata": {
            "tags": []
          },
          "execution_count": 79
        }
      ]
    },
    {
      "cell_type": "markdown",
      "metadata": {
        "id": "mHOTvWTt6S0f",
        "colab_type": "text"
      },
      "source": [
        "## Renaming Column Names"
      ]
    },
    {
      "cell_type": "markdown",
      "metadata": {
        "id": "NBCo69x16S0f",
        "colab_type": "text"
      },
      "source": [
        "### How to do it..."
      ]
    },
    {
      "cell_type": "code",
      "metadata": {
        "lines_to_next_cell": 2,
        "id": "1b-7bE9K6S0f",
        "colab_type": "code",
        "colab": {}
      },
      "source": [
        "movies = pd.read_csv('data/movie.csv')"
      ],
      "execution_count": null,
      "outputs": []
    },
    {
      "cell_type": "code",
      "metadata": {
        "lines_to_next_cell": 2,
        "id": "qExDDfr56S0h",
        "colab_type": "code",
        "colab": {}
      },
      "source": [
        "col_map = {'director_name':'Director Name', \n",
        "             'num_critic_for_reviews': 'Critical Reviews'} "
      ],
      "execution_count": null,
      "outputs": []
    },
    {
      "cell_type": "code",
      "metadata": {
        "lines_to_next_cell": 2,
        "id": "XOmWkLeX6S0i",
        "colab_type": "code",
        "colab": {}
      },
      "source": [
        "movies.rename(columns=col_map).head()"
      ],
      "execution_count": null,
      "outputs": []
    },
    {
      "cell_type": "markdown",
      "metadata": {
        "id": "Us1t8tkL6S0k",
        "colab_type": "text"
      },
      "source": [
        "### How it works... {#how-it-works-8}"
      ]
    },
    {
      "cell_type": "markdown",
      "metadata": {
        "id": "ajynxv696S0k",
        "colab_type": "text"
      },
      "source": [
        "### There's more {#theres-more-7}"
      ]
    },
    {
      "cell_type": "code",
      "metadata": {
        "lines_to_next_cell": 2,
        "id": "QrUzX8vq6S0k",
        "colab_type": "code",
        "colab": {}
      },
      "source": [
        "idx_map = {'Avatar':'Ratava', 'Spectre': 'Ertceps',\n",
        "  \"Pirates of the Caribbean: At World's End\": 'POC'}\n",
        "col_map = {'aspect_ratio': 'aspect',\n",
        "  \"movie_facebook_likes\": 'fblikes'}\n",
        "(movies\n",
        "   .set_index('movie_title')\n",
        "   .rename(index=idx_map, columns=col_map)\n",
        "   .head(3)\n",
        ")"
      ],
      "execution_count": null,
      "outputs": []
    },
    {
      "cell_type": "code",
      "metadata": {
        "lines_to_next_cell": 2,
        "id": "P0z709Lz6S0m",
        "colab_type": "code",
        "colab": {}
      },
      "source": [
        "movies = pd.read_csv('data/movie.csv', index_col='movie_title')\n",
        "ids = movies.index.tolist()\n",
        "columns = movies.columns.tolist()"
      ],
      "execution_count": null,
      "outputs": []
    },
    {
      "cell_type": "markdown",
      "metadata": {
        "id": "t6O1j5YP6S0o",
        "colab_type": "text"
      },
      "source": [
        "# rename the row and column labels with list assignments"
      ]
    },
    {
      "cell_type": "code",
      "metadata": {
        "lines_to_next_cell": 2,
        "id": "yBSnOgpp6S0o",
        "colab_type": "code",
        "colab": {}
      },
      "source": [
        "ids[0] = 'Ratava'\n",
        "ids[1] = 'POC'\n",
        "ids[2] = 'Ertceps'\n",
        "columns[1] = 'director'\n",
        "columns[-2] = 'aspect'\n",
        "columns[-1] = 'fblikes'\n",
        "movies.index = ids\n",
        "movies.columns = columns"
      ],
      "execution_count": null,
      "outputs": []
    },
    {
      "cell_type": "code",
      "metadata": {
        "id": "uI-ee7SW6S0r",
        "colab_type": "code",
        "colab": {}
      },
      "source": [
        "movies.head(3)"
      ],
      "execution_count": null,
      "outputs": []
    },
    {
      "cell_type": "code",
      "metadata": {
        "id": "3M5_bNZJ6S0s",
        "colab_type": "code",
        "colab": {}
      },
      "source": [
        "def to_clean(val):\n",
        "    return val.strip().lower().replace(' ', '_')"
      ],
      "execution_count": null,
      "outputs": []
    },
    {
      "cell_type": "code",
      "metadata": {
        "lines_to_next_cell": 2,
        "id": "aY5rfOiC6S0u",
        "colab_type": "code",
        "colab": {}
      },
      "source": [
        "movies.rename(columns=to_clean).head(3)"
      ],
      "execution_count": null,
      "outputs": []
    },
    {
      "cell_type": "code",
      "metadata": {
        "lines_to_next_cell": 2,
        "id": "7G69fsrs6S0x",
        "colab_type": "code",
        "colab": {}
      },
      "source": [
        "cols = [col.strip().lower().replace(' ', '_')\n",
        "        for col in movies.columns]\n",
        "movies.columns = cols\n",
        "movies.head(3)"
      ],
      "execution_count": null,
      "outputs": []
    },
    {
      "cell_type": "code",
      "metadata": {
        "id": "9xmJTYzhc6iB",
        "colab_type": "code",
        "colab": {
          "base_uri": "https://localhost:8080/",
          "height": 503
        },
        "outputId": "aef72c48-6e69-4e04-a017-063051fe03a7"
      },
      "source": [
        "cols = [col.strip().lower().replace(' ', '_')\n",
        "        for col in movies.columns]\n",
        "cols"
      ],
      "execution_count": 82,
      "outputs": [
        {
          "output_type": "execute_result",
          "data": {
            "text/plain": [
              "['color',\n",
              " 'director_name',\n",
              " 'num_critic_for_reviews',\n",
              " 'duration',\n",
              " 'director_facebook_likes',\n",
              " 'actor_3_facebook_likes',\n",
              " 'actor_2_name',\n",
              " 'actor_1_facebook_likes',\n",
              " 'gross',\n",
              " 'genres',\n",
              " 'actor_1_name',\n",
              " 'movie_title',\n",
              " 'num_voted_users',\n",
              " 'cast_total_facebook_likes',\n",
              " 'actor_3_name',\n",
              " 'facenumber_in_poster',\n",
              " 'plot_keywords',\n",
              " 'movie_imdb_link',\n",
              " 'num_user_for_reviews',\n",
              " 'language',\n",
              " 'country',\n",
              " 'content_rating',\n",
              " 'budget',\n",
              " 'title_year',\n",
              " 'actor_2_facebook_likes',\n",
              " 'imdb_score',\n",
              " 'aspect_ratio',\n",
              " 'movie_facebook_likes']"
            ]
          },
          "metadata": {
            "tags": []
          },
          "execution_count": 82
        }
      ]
    },
    {
      "cell_type": "markdown",
      "metadata": {
        "id": "7UfhnLen6S0y",
        "colab_type": "text"
      },
      "source": [
        "## Creating and Deleting columns"
      ]
    },
    {
      "cell_type": "markdown",
      "metadata": {
        "id": "rtkB63_k6S0y",
        "colab_type": "text"
      },
      "source": [
        "### How to do it... {#how-to-do-it-9}"
      ]
    },
    {
      "cell_type": "code",
      "metadata": {
        "lines_to_next_cell": 2,
        "id": "2KYkEsze6S0y",
        "colab_type": "code",
        "colab": {}
      },
      "source": [
        "movies = pd.read_csv('data/movie.csv')\n",
        "movies['has_seen'] = 0"
      ],
      "execution_count": null,
      "outputs": []
    },
    {
      "cell_type": "code",
      "metadata": {
        "lines_to_next_cell": 2,
        "id": "W86KOjKB6S00",
        "colab_type": "code",
        "colab": {}
      },
      "source": [
        "idx_map = {'Avatar':'Ratava', 'Spectre': 'Ertceps',\n",
        "  \"Pirates of the Caribbean: At World's End\": 'POC'}\n",
        "col_map = {'aspect_ratio': 'aspect',\n",
        "  \"movie_facebook_likes\": 'fblikes'}\n",
        "(movies\n",
        "   .rename(index=idx_map, columns=col_map)\n",
        "   .assign(has_seen=0)\n",
        ")"
      ],
      "execution_count": null,
      "outputs": []
    },
    {
      "cell_type": "code",
      "metadata": {
        "lines_to_next_cell": 2,
        "id": "raS9ZK0y6S02",
        "colab_type": "code",
        "colab": {}
      },
      "source": [
        "total = (movies['actor_1_facebook_likes'] +\n",
        "         movies['actor_2_facebook_likes'] + \n",
        "         movies['actor_3_facebook_likes'] + \n",
        "         movies['director_facebook_likes'])"
      ],
      "execution_count": 91,
      "outputs": []
    },
    {
      "cell_type": "code",
      "metadata": {
        "lines_to_next_cell": 2,
        "id": "oicZvPPI6S04",
        "colab_type": "code",
        "colab": {
          "base_uri": "https://localhost:8080/",
          "height": 121
        },
        "outputId": "64fc7ef2-1291-424e-a342-74b0b8a3b302"
      },
      "source": [
        "total.head(5)"
      ],
      "execution_count": 92,
      "outputs": [
        {
          "output_type": "execute_result",
          "data": {
            "text/plain": [
              "0     2791.0\n",
              "1    46563.0\n",
              "2    11554.0\n",
              "3    95000.0\n",
              "4        NaN\n",
              "dtype: float64"
            ]
          },
          "metadata": {
            "tags": []
          },
          "execution_count": 92
        }
      ]
    },
    {
      "cell_type": "code",
      "metadata": {
        "lines_to_next_cell": 2,
        "id": "Gs9ZsQpA6S05",
        "colab_type": "code",
        "colab": {
          "base_uri": "https://localhost:8080/",
          "height": 121
        },
        "outputId": "920f2ed2-e83d-48df-edaa-971839601177"
      },
      "source": [
        "cols = ['actor_1_facebook_likes','actor_2_facebook_likes',\n",
        "    'actor_3_facebook_likes','director_facebook_likes']\n",
        "sum_col = movies[cols].sum(axis='columns')\n",
        "sum_col.head(5)"
      ],
      "execution_count": 85,
      "outputs": [
        {
          "output_type": "execute_result",
          "data": {
            "text/plain": [
              "0     2791.0\n",
              "1    46563.0\n",
              "2    11554.0\n",
              "3    95000.0\n",
              "4      274.0\n",
              "dtype: float64"
            ]
          },
          "metadata": {
            "tags": []
          },
          "execution_count": 85
        }
      ]
    },
    {
      "cell_type": "code",
      "metadata": {
        "id": "RCJshODm6S06",
        "colab_type": "code",
        "colab": {
          "base_uri": "https://localhost:8080/",
          "height": 231
        },
        "outputId": "4baef7e1-a59b-4bfa-ecf4-217bf1cc78f0"
      },
      "source": [
        "movies.assign(total_likes=sum_col).head(5)"
      ],
      "execution_count": 86,
      "outputs": [
        {
          "output_type": "execute_result",
          "data": {
            "text/html": [
              "<div>\n",
              "<style scoped>\n",
              "    .dataframe tbody tr th:only-of-type {\n",
              "        vertical-align: middle;\n",
              "    }\n",
              "\n",
              "    .dataframe tbody tr th {\n",
              "        vertical-align: top;\n",
              "    }\n",
              "\n",
              "    .dataframe thead th {\n",
              "        text-align: right;\n",
              "    }\n",
              "</style>\n",
              "<table border=\"1\" class=\"dataframe\">\n",
              "  <thead>\n",
              "    <tr style=\"text-align: right;\">\n",
              "      <th></th>\n",
              "      <th>color</th>\n",
              "      <th>director_name</th>\n",
              "      <th>...</th>\n",
              "      <th>movie_facebook_likes</th>\n",
              "      <th>total_likes</th>\n",
              "    </tr>\n",
              "  </thead>\n",
              "  <tbody>\n",
              "    <tr>\n",
              "      <th>0</th>\n",
              "      <td>Color</td>\n",
              "      <td>James Cameron</td>\n",
              "      <td>...</td>\n",
              "      <td>33000</td>\n",
              "      <td>2791.0</td>\n",
              "    </tr>\n",
              "    <tr>\n",
              "      <th>1</th>\n",
              "      <td>Color</td>\n",
              "      <td>Gore Verbinski</td>\n",
              "      <td>...</td>\n",
              "      <td>0</td>\n",
              "      <td>46563.0</td>\n",
              "    </tr>\n",
              "    <tr>\n",
              "      <th>2</th>\n",
              "      <td>Color</td>\n",
              "      <td>Sam Mendes</td>\n",
              "      <td>...</td>\n",
              "      <td>85000</td>\n",
              "      <td>11554.0</td>\n",
              "    </tr>\n",
              "    <tr>\n",
              "      <th>3</th>\n",
              "      <td>Color</td>\n",
              "      <td>Christopher Nolan</td>\n",
              "      <td>...</td>\n",
              "      <td>164000</td>\n",
              "      <td>95000.0</td>\n",
              "    </tr>\n",
              "    <tr>\n",
              "      <th>4</th>\n",
              "      <td>NaN</td>\n",
              "      <td>Doug Walker</td>\n",
              "      <td>...</td>\n",
              "      <td>0</td>\n",
              "      <td>274.0</td>\n",
              "    </tr>\n",
              "  </tbody>\n",
              "</table>\n",
              "<p>5 rows × 29 columns</p>\n",
              "</div>"
            ],
            "text/plain": [
              "   color      director_name  ...  movie_facebook_likes  total_likes\n",
              "0  Color      James Cameron  ...                 33000       2791.0\n",
              "1  Color     Gore Verbinski  ...                     0      46563.0\n",
              "2  Color         Sam Mendes  ...                 85000      11554.0\n",
              "3  Color  Christopher Nolan  ...                164000      95000.0\n",
              "4    NaN        Doug Walker  ...                     0        274.0\n",
              "\n",
              "[5 rows x 29 columns]"
            ]
          },
          "metadata": {
            "tags": []
          },
          "execution_count": 86
        }
      ]
    },
    {
      "cell_type": "code",
      "metadata": {
        "id": "AiiPGBsu6S07",
        "colab_type": "code",
        "colab": {}
      },
      "source": [
        "def sum_likes(df):\n",
        "   return df[[c for c in df.columns\n",
        "              if 'like' in c]].sum(axis=1)"
      ],
      "execution_count": 87,
      "outputs": []
    },
    {
      "cell_type": "code",
      "metadata": {
        "lines_to_next_cell": 2,
        "id": "4cVCkdDc6S09",
        "colab_type": "code",
        "colab": {
          "base_uri": "https://localhost:8080/",
          "height": 231
        },
        "outputId": "cbaeeab4-4150-49d3-c580-29899fa0fac9"
      },
      "source": [
        "movies.assign(total_likes=sum_likes).head(5)"
      ],
      "execution_count": 88,
      "outputs": [
        {
          "output_type": "execute_result",
          "data": {
            "text/html": [
              "<div>\n",
              "<style scoped>\n",
              "    .dataframe tbody tr th:only-of-type {\n",
              "        vertical-align: middle;\n",
              "    }\n",
              "\n",
              "    .dataframe tbody tr th {\n",
              "        vertical-align: top;\n",
              "    }\n",
              "\n",
              "    .dataframe thead th {\n",
              "        text-align: right;\n",
              "    }\n",
              "</style>\n",
              "<table border=\"1\" class=\"dataframe\">\n",
              "  <thead>\n",
              "    <tr style=\"text-align: right;\">\n",
              "      <th></th>\n",
              "      <th>color</th>\n",
              "      <th>director_name</th>\n",
              "      <th>...</th>\n",
              "      <th>movie_facebook_likes</th>\n",
              "      <th>total_likes</th>\n",
              "    </tr>\n",
              "  </thead>\n",
              "  <tbody>\n",
              "    <tr>\n",
              "      <th>0</th>\n",
              "      <td>Color</td>\n",
              "      <td>James Cameron</td>\n",
              "      <td>...</td>\n",
              "      <td>33000</td>\n",
              "      <td>40625.0</td>\n",
              "    </tr>\n",
              "    <tr>\n",
              "      <th>1</th>\n",
              "      <td>Color</td>\n",
              "      <td>Gore Verbinski</td>\n",
              "      <td>...</td>\n",
              "      <td>0</td>\n",
              "      <td>94913.0</td>\n",
              "    </tr>\n",
              "    <tr>\n",
              "      <th>2</th>\n",
              "      <td>Color</td>\n",
              "      <td>Sam Mendes</td>\n",
              "      <td>...</td>\n",
              "      <td>85000</td>\n",
              "      <td>108254.0</td>\n",
              "    </tr>\n",
              "    <tr>\n",
              "      <th>3</th>\n",
              "      <td>Color</td>\n",
              "      <td>Christopher Nolan</td>\n",
              "      <td>...</td>\n",
              "      <td>164000</td>\n",
              "      <td>365759.0</td>\n",
              "    </tr>\n",
              "    <tr>\n",
              "      <th>4</th>\n",
              "      <td>NaN</td>\n",
              "      <td>Doug Walker</td>\n",
              "      <td>...</td>\n",
              "      <td>0</td>\n",
              "      <td>417.0</td>\n",
              "    </tr>\n",
              "  </tbody>\n",
              "</table>\n",
              "<p>5 rows × 29 columns</p>\n",
              "</div>"
            ],
            "text/plain": [
              "   color      director_name  ...  movie_facebook_likes  total_likes\n",
              "0  Color      James Cameron  ...                 33000      40625.0\n",
              "1  Color     Gore Verbinski  ...                     0      94913.0\n",
              "2  Color         Sam Mendes  ...                 85000     108254.0\n",
              "3  Color  Christopher Nolan  ...                164000     365759.0\n",
              "4    NaN        Doug Walker  ...                     0        417.0\n",
              "\n",
              "[5 rows x 29 columns]"
            ]
          },
          "metadata": {
            "tags": []
          },
          "execution_count": 88
        }
      ]
    },
    {
      "cell_type": "code",
      "metadata": {
        "lines_to_next_cell": 2,
        "id": "LFv9QxFy6S0-",
        "colab_type": "code",
        "colab": {
          "base_uri": "https://localhost:8080/",
          "height": 35
        },
        "outputId": "3542c948-5573-477f-d183-fe0214e9feb2"
      },
      "source": [
        "(movies\n",
        "   .assign(total_likes=sum_col)\n",
        "   ['total_likes']\n",
        "   .isna()\n",
        "   .sum()\n",
        ")"
      ],
      "execution_count": 89,
      "outputs": [
        {
          "output_type": "execute_result",
          "data": {
            "text/plain": [
              "0"
            ]
          },
          "metadata": {
            "tags": []
          },
          "execution_count": 89
        }
      ]
    },
    {
      "cell_type": "code",
      "metadata": {
        "lines_to_next_cell": 2,
        "id": "nus87yJj6S1D",
        "colab_type": "code",
        "colab": {
          "base_uri": "https://localhost:8080/",
          "height": 35
        },
        "outputId": "41a39b2e-87f6-40a4-8404-0585401767f9"
      },
      "source": [
        "(movies\n",
        "   .assign(total_likes=total)\n",
        "   ['total_likes']\n",
        "   .isna()\n",
        "   .sum()\n",
        ")"
      ],
      "execution_count": 93,
      "outputs": [
        {
          "output_type": "execute_result",
          "data": {
            "text/plain": [
              "122"
            ]
          },
          "metadata": {
            "tags": []
          },
          "execution_count": 93
        }
      ]
    },
    {
      "cell_type": "code",
      "metadata": {
        "id": "rvv2wZap6S1G",
        "colab_type": "code",
        "colab": {}
      },
      "source": [
        "(movies\n",
        "   .assign(total_likes=total.fillna(0))\n",
        "   ['total_likes']\n",
        "   .isna()\n",
        "   .sum()\n",
        ")"
      ],
      "execution_count": null,
      "outputs": []
    },
    {
      "cell_type": "code",
      "metadata": {
        "id": "uO9UdXUh6S1I",
        "colab_type": "code",
        "colab": {}
      },
      "source": [
        "def cast_like_gt_actor_director(df):\n",
        "    return df['cast_total_facebook_likes'] >= \\\n",
        "           df['total_likes']"
      ],
      "execution_count": null,
      "outputs": []
    },
    {
      "cell_type": "code",
      "metadata": {
        "lines_to_next_cell": 2,
        "id": "xLowx40f6S1L",
        "colab_type": "code",
        "colab": {}
      },
      "source": [
        "df2 = (movies\n",
        "   .assign(total_likes=total,\n",
        "           is_cast_likes_more = cast_like_gt_actor_director)\n",
        ")"
      ],
      "execution_count": null,
      "outputs": []
    },
    {
      "cell_type": "code",
      "metadata": {
        "lines_to_next_cell": 2,
        "id": "U4ZUJz7n6S1M",
        "colab_type": "code",
        "colab": {}
      },
      "source": [
        "df2['is_cast_likes_more'].all()"
      ],
      "execution_count": null,
      "outputs": []
    },
    {
      "cell_type": "code",
      "metadata": {
        "lines_to_next_cell": 2,
        "id": "CurvtHBB6S1M",
        "colab_type": "code",
        "colab": {}
      },
      "source": [
        "df2 = df2.drop(columns='total_likes')"
      ],
      "execution_count": null,
      "outputs": []
    },
    {
      "cell_type": "code",
      "metadata": {
        "lines_to_next_cell": 2,
        "id": "lPXD_rHT6S1N",
        "colab_type": "code",
        "colab": {}
      },
      "source": [
        "actor_sum = (movies\n",
        "   [[c for c in movies.columns if 'actor_' in c and '_likes' in c]]\n",
        "   .sum(axis='columns')\n",
        ")"
      ],
      "execution_count": null,
      "outputs": []
    },
    {
      "cell_type": "code",
      "metadata": {
        "lines_to_next_cell": 2,
        "id": "IpYGt26s6S1P",
        "colab_type": "code",
        "colab": {}
      },
      "source": [
        "actor_sum.head(5)"
      ],
      "execution_count": null,
      "outputs": []
    },
    {
      "cell_type": "code",
      "metadata": {
        "lines_to_next_cell": 2,
        "id": "HgBf_NNC6S1Q",
        "colab_type": "code",
        "colab": {}
      },
      "source": [
        "movies['cast_total_facebook_likes'] >= actor_sum"
      ],
      "execution_count": null,
      "outputs": []
    },
    {
      "cell_type": "code",
      "metadata": {
        "lines_to_next_cell": 2,
        "id": "ihM0bG7B6S1Q",
        "colab_type": "code",
        "colab": {}
      },
      "source": [
        "movies['cast_total_facebook_likes'].ge(actor_sum)"
      ],
      "execution_count": null,
      "outputs": []
    },
    {
      "cell_type": "code",
      "metadata": {
        "lines_to_next_cell": 2,
        "id": "CgTvjKPG6S1R",
        "colab_type": "code",
        "colab": {}
      },
      "source": [
        "movies['cast_total_facebook_likes'].ge(actor_sum).all()"
      ],
      "execution_count": null,
      "outputs": []
    },
    {
      "cell_type": "code",
      "metadata": {
        "lines_to_next_cell": 2,
        "id": "Zm5hpcNe6S1S",
        "colab_type": "code",
        "colab": {}
      },
      "source": [
        "pct_like = (actor_sum\n",
        "    .div(movies['cast_total_facebook_likes'])\n",
        ")"
      ],
      "execution_count": null,
      "outputs": []
    },
    {
      "cell_type": "code",
      "metadata": {
        "lines_to_next_cell": 2,
        "id": "fSZwS2hx6S1T",
        "colab_type": "code",
        "colab": {}
      },
      "source": [
        "pct_like.describe()"
      ],
      "execution_count": null,
      "outputs": []
    },
    {
      "cell_type": "code",
      "metadata": {
        "lines_to_next_cell": 2,
        "id": "NbSp3EBG6S1U",
        "colab_type": "code",
        "colab": {}
      },
      "source": [
        "pd.Series(pct_like.values,\n",
        "    index=movies['movie_title'].values).head()"
      ],
      "execution_count": null,
      "outputs": []
    },
    {
      "cell_type": "markdown",
      "metadata": {
        "id": "DN2SKnKI6S1W",
        "colab_type": "text"
      },
      "source": [
        "### How it works... {#how-it-works-9}"
      ]
    },
    {
      "cell_type": "markdown",
      "metadata": {
        "id": "7hpOiXbI6S1W",
        "colab_type": "text"
      },
      "source": [
        "### There's more... {#theres-more-8}"
      ]
    },
    {
      "cell_type": "code",
      "metadata": {
        "lines_to_next_cell": 2,
        "id": "VF8IldSa6S1X",
        "colab_type": "code",
        "colab": {}
      },
      "source": [
        "profit_index = movies.columns.get_loc('gross') + 1\n",
        "profit_index"
      ],
      "execution_count": null,
      "outputs": []
    },
    {
      "cell_type": "code",
      "metadata": {
        "lines_to_next_cell": 2,
        "id": "WCB7pzhy6S1a",
        "colab_type": "code",
        "colab": {}
      },
      "source": [
        "movies.insert(loc=profit_index,\n",
        "              column='profit',\n",
        "              value=movies['gross'] - movies['budget'])"
      ],
      "execution_count": null,
      "outputs": []
    },
    {
      "cell_type": "code",
      "metadata": {
        "lines_to_next_cell": 2,
        "id": "iPss9Mty6S1b",
        "colab_type": "code",
        "colab": {}
      },
      "source": [
        "del movies['director_name']"
      ],
      "execution_count": null,
      "outputs": []
    },
    {
      "cell_type": "code",
      "metadata": {
        "id": "WPatr5TF8am6",
        "colab_type": "code",
        "colab": {}
      },
      "source": [
        "def getGrossMargin(df):\n",
        "  return df.gross df.budget"
      ],
      "execution_count": 94,
      "outputs": []
    },
    {
      "cell_type": "code",
      "metadata": {
        "id": "tapejr7J886T",
        "colab_type": "code",
        "colab": {}
      },
      "source": [
        "movies=movies.assign(profit=getGrossMargin)"
      ],
      "execution_count": 100,
      "outputs": []
    },
    {
      "cell_type": "code",
      "metadata": {
        "id": "VzRudW609WRD",
        "colab_type": "code",
        "colab": {
          "base_uri": "https://localhost:8080/",
          "height": 415
        },
        "outputId": "8901c944-b676-4896-d380-7987627ad666"
      },
      "source": [
        "movies[['movie_title','gross','budget','profit']]"
      ],
      "execution_count": 101,
      "outputs": [
        {
          "output_type": "execute_result",
          "data": {
            "text/html": [
              "<div>\n",
              "<style scoped>\n",
              "    .dataframe tbody tr th:only-of-type {\n",
              "        vertical-align: middle;\n",
              "    }\n",
              "\n",
              "    .dataframe tbody tr th {\n",
              "        vertical-align: top;\n",
              "    }\n",
              "\n",
              "    .dataframe thead th {\n",
              "        text-align: right;\n",
              "    }\n",
              "</style>\n",
              "<table border=\"1\" class=\"dataframe\">\n",
              "  <thead>\n",
              "    <tr style=\"text-align: right;\">\n",
              "      <th></th>\n",
              "      <th>movie_title</th>\n",
              "      <th>gross</th>\n",
              "      <th>budget</th>\n",
              "      <th>profit</th>\n",
              "    </tr>\n",
              "  </thead>\n",
              "  <tbody>\n",
              "    <tr>\n",
              "      <th>0</th>\n",
              "      <td>Avatar</td>\n",
              "      <td>760505847.0</td>\n",
              "      <td>237000000.0</td>\n",
              "      <td>523505847.0</td>\n",
              "    </tr>\n",
              "    <tr>\n",
              "      <th>1</th>\n",
              "      <td>Pirates of the Caribbean: At World's End</td>\n",
              "      <td>309404152.0</td>\n",
              "      <td>300000000.0</td>\n",
              "      <td>9404152.0</td>\n",
              "    </tr>\n",
              "    <tr>\n",
              "      <th>2</th>\n",
              "      <td>Spectre</td>\n",
              "      <td>200074175.0</td>\n",
              "      <td>245000000.0</td>\n",
              "      <td>-44925825.0</td>\n",
              "    </tr>\n",
              "    <tr>\n",
              "      <th>3</th>\n",
              "      <td>The Dark Knight Rises</td>\n",
              "      <td>448130642.0</td>\n",
              "      <td>250000000.0</td>\n",
              "      <td>198130642.0</td>\n",
              "    </tr>\n",
              "    <tr>\n",
              "      <th>4</th>\n",
              "      <td>Star Wars: Episode VII - The Force Awakens</td>\n",
              "      <td>NaN</td>\n",
              "      <td>NaN</td>\n",
              "      <td>NaN</td>\n",
              "    </tr>\n",
              "    <tr>\n",
              "      <th>...</th>\n",
              "      <td>...</td>\n",
              "      <td>...</td>\n",
              "      <td>...</td>\n",
              "      <td>...</td>\n",
              "    </tr>\n",
              "    <tr>\n",
              "      <th>4911</th>\n",
              "      <td>Signed Sealed Delivered</td>\n",
              "      <td>NaN</td>\n",
              "      <td>NaN</td>\n",
              "      <td>NaN</td>\n",
              "    </tr>\n",
              "    <tr>\n",
              "      <th>4912</th>\n",
              "      <td>The Following</td>\n",
              "      <td>NaN</td>\n",
              "      <td>NaN</td>\n",
              "      <td>NaN</td>\n",
              "    </tr>\n",
              "    <tr>\n",
              "      <th>4913</th>\n",
              "      <td>A Plague So Pleasant</td>\n",
              "      <td>NaN</td>\n",
              "      <td>1400.0</td>\n",
              "      <td>NaN</td>\n",
              "    </tr>\n",
              "    <tr>\n",
              "      <th>4914</th>\n",
              "      <td>Shanghai Calling</td>\n",
              "      <td>10443.0</td>\n",
              "      <td>NaN</td>\n",
              "      <td>NaN</td>\n",
              "    </tr>\n",
              "    <tr>\n",
              "      <th>4915</th>\n",
              "      <td>My Date with Drew</td>\n",
              "      <td>85222.0</td>\n",
              "      <td>1100.0</td>\n",
              "      <td>84122.0</td>\n",
              "    </tr>\n",
              "  </tbody>\n",
              "</table>\n",
              "<p>4916 rows × 4 columns</p>\n",
              "</div>"
            ],
            "text/plain": [
              "                                     movie_title        gross       budget  \\\n",
              "0                                         Avatar  760505847.0  237000000.0   \n",
              "1       Pirates of the Caribbean: At World's End  309404152.0  300000000.0   \n",
              "2                                        Spectre  200074175.0  245000000.0   \n",
              "3                          The Dark Knight Rises  448130642.0  250000000.0   \n",
              "4     Star Wars: Episode VII - The Force Awakens          NaN          NaN   \n",
              "...                                          ...          ...          ...   \n",
              "4911                     Signed Sealed Delivered          NaN          NaN   \n",
              "4912                               The Following          NaN          NaN   \n",
              "4913                        A Plague So Pleasant          NaN       1400.0   \n",
              "4914                            Shanghai Calling      10443.0          NaN   \n",
              "4915                           My Date with Drew      85222.0       1100.0   \n",
              "\n",
              "           profit  \n",
              "0     523505847.0  \n",
              "1       9404152.0  \n",
              "2     -44925825.0  \n",
              "3     198130642.0  \n",
              "4             NaN  \n",
              "...           ...  \n",
              "4911          NaN  \n",
              "4912          NaN  \n",
              "4913          NaN  \n",
              "4914          NaN  \n",
              "4915      84122.0  \n",
              "\n",
              "[4916 rows x 4 columns]"
            ]
          },
          "metadata": {
            "tags": []
          },
          "execution_count": 101
        }
      ]
    },
    {
      "cell_type": "markdown",
      "metadata": {
        "lines_to_next_cell": 2,
        "id": "SYC0M7VT6S1c",
        "colab_type": "text"
      },
      "source": [
        "### See also"
      ]
    }
  ]
}